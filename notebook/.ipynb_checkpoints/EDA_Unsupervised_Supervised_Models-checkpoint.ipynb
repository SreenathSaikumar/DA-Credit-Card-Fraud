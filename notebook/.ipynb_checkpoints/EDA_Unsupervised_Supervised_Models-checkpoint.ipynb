{
 "cells": [
  {
   "cell_type": "code",
   "execution_count": 3,
   "metadata": {
    "execution": {
     "iopub.execute_input": "2021-12-06T13:10:30.210768Z",
     "iopub.status.busy": "2021-12-06T13:10:30.210473Z",
     "iopub.status.idle": "2021-12-06T13:10:30.215444Z",
     "shell.execute_reply": "2021-12-06T13:10:30.214723Z",
     "shell.execute_reply.started": "2021-12-06T13:10:30.210736Z"
    },
    "id": "dtHnVBAhLxeY",
    "papermill": {
     "duration": 1.025184,
     "end_time": "2021-12-06T08:04:18.3511",
     "exception": false,
     "start_time": "2021-12-06T08:04:17.325916",
     "status": "completed"
    },
    "tags": []
   },
   "outputs": [],
   "source": [
    "import numpy as np\n",
    "import pandas as pd\n",
    "import matplotlib.pyplot as plt\n",
    "import seaborn as sns"
   ]
  },
  {
   "cell_type": "code",
   "execution_count": 4,
   "metadata": {
    "execution": {
     "iopub.execute_input": "2021-12-06T13:10:30.217053Z",
     "iopub.status.busy": "2021-12-06T13:10:30.216709Z",
     "iopub.status.idle": "2021-12-06T13:10:34.217536Z",
     "shell.execute_reply": "2021-12-06T13:10:34.216667Z",
     "shell.execute_reply.started": "2021-12-06T13:10:30.217021Z"
    },
    "id": "gzstuMoqMDBq",
    "papermill": {
     "duration": 3.798893,
     "end_time": "2021-12-06T08:04:22.188842",
     "exception": false,
     "start_time": "2021-12-06T08:04:18.389949",
     "status": "completed"
    },
    "tags": []
   },
   "outputs": [],
   "source": [
    "df = pd.read_csv('../data/creditcard.csv')"
   ]
  },
  {
   "cell_type": "code",
   "execution_count": 5,
   "metadata": {
    "execution": {
     "iopub.execute_input": "2021-12-06T13:10:34.219012Z",
     "iopub.status.busy": "2021-12-06T13:10:34.21879Z",
     "iopub.status.idle": "2021-12-06T13:10:34.261446Z",
     "shell.execute_reply": "2021-12-06T13:10:34.260556Z",
     "shell.execute_reply.started": "2021-12-06T13:10:34.218985Z"
    },
    "id": "NVhpPBmqN3Zs",
    "outputId": "9ebaa746-1a67-40e9-ed85-5b8f40f79465",
    "papermill": {
     "duration": 0.079194,
     "end_time": "2021-12-06T08:04:22.305571",
     "exception": false,
     "start_time": "2021-12-06T08:04:22.226377",
     "status": "completed"
    },
    "tags": []
   },
   "outputs": [
    {
     "data": {
      "text/html": [
       "<div>\n",
       "<style scoped>\n",
       "    .dataframe tbody tr th:only-of-type {\n",
       "        vertical-align: middle;\n",
       "    }\n",
       "\n",
       "    .dataframe tbody tr th {\n",
       "        vertical-align: top;\n",
       "    }\n",
       "\n",
       "    .dataframe thead th {\n",
       "        text-align: right;\n",
       "    }\n",
       "</style>\n",
       "<table border=\"1\" class=\"dataframe\">\n",
       "  <thead>\n",
       "    <tr style=\"text-align: right;\">\n",
       "      <th></th>\n",
       "      <th>Time</th>\n",
       "      <th>V1</th>\n",
       "      <th>V2</th>\n",
       "      <th>V3</th>\n",
       "      <th>V4</th>\n",
       "      <th>V5</th>\n",
       "      <th>V6</th>\n",
       "      <th>V7</th>\n",
       "      <th>V8</th>\n",
       "      <th>V9</th>\n",
       "      <th>...</th>\n",
       "      <th>V21</th>\n",
       "      <th>V22</th>\n",
       "      <th>V23</th>\n",
       "      <th>V24</th>\n",
       "      <th>V25</th>\n",
       "      <th>V26</th>\n",
       "      <th>V27</th>\n",
       "      <th>V28</th>\n",
       "      <th>Amount</th>\n",
       "      <th>Class</th>\n",
       "    </tr>\n",
       "  </thead>\n",
       "  <tbody>\n",
       "    <tr>\n",
       "      <th>0</th>\n",
       "      <td>0.0</td>\n",
       "      <td>-1.359807</td>\n",
       "      <td>-0.072781</td>\n",
       "      <td>2.536347</td>\n",
       "      <td>1.378155</td>\n",
       "      <td>-0.338321</td>\n",
       "      <td>0.462388</td>\n",
       "      <td>0.239599</td>\n",
       "      <td>0.098698</td>\n",
       "      <td>0.363787</td>\n",
       "      <td>...</td>\n",
       "      <td>-0.018307</td>\n",
       "      <td>0.277838</td>\n",
       "      <td>-0.110474</td>\n",
       "      <td>0.066928</td>\n",
       "      <td>0.128539</td>\n",
       "      <td>-0.189115</td>\n",
       "      <td>0.133558</td>\n",
       "      <td>-0.021053</td>\n",
       "      <td>149.62</td>\n",
       "      <td>0</td>\n",
       "    </tr>\n",
       "    <tr>\n",
       "      <th>1</th>\n",
       "      <td>0.0</td>\n",
       "      <td>1.191857</td>\n",
       "      <td>0.266151</td>\n",
       "      <td>0.166480</td>\n",
       "      <td>0.448154</td>\n",
       "      <td>0.060018</td>\n",
       "      <td>-0.082361</td>\n",
       "      <td>-0.078803</td>\n",
       "      <td>0.085102</td>\n",
       "      <td>-0.255425</td>\n",
       "      <td>...</td>\n",
       "      <td>-0.225775</td>\n",
       "      <td>-0.638672</td>\n",
       "      <td>0.101288</td>\n",
       "      <td>-0.339846</td>\n",
       "      <td>0.167170</td>\n",
       "      <td>0.125895</td>\n",
       "      <td>-0.008983</td>\n",
       "      <td>0.014724</td>\n",
       "      <td>2.69</td>\n",
       "      <td>0</td>\n",
       "    </tr>\n",
       "    <tr>\n",
       "      <th>2</th>\n",
       "      <td>1.0</td>\n",
       "      <td>-1.358354</td>\n",
       "      <td>-1.340163</td>\n",
       "      <td>1.773209</td>\n",
       "      <td>0.379780</td>\n",
       "      <td>-0.503198</td>\n",
       "      <td>1.800499</td>\n",
       "      <td>0.791461</td>\n",
       "      <td>0.247676</td>\n",
       "      <td>-1.514654</td>\n",
       "      <td>...</td>\n",
       "      <td>0.247998</td>\n",
       "      <td>0.771679</td>\n",
       "      <td>0.909412</td>\n",
       "      <td>-0.689281</td>\n",
       "      <td>-0.327642</td>\n",
       "      <td>-0.139097</td>\n",
       "      <td>-0.055353</td>\n",
       "      <td>-0.059752</td>\n",
       "      <td>378.66</td>\n",
       "      <td>0</td>\n",
       "    </tr>\n",
       "    <tr>\n",
       "      <th>3</th>\n",
       "      <td>1.0</td>\n",
       "      <td>-0.966272</td>\n",
       "      <td>-0.185226</td>\n",
       "      <td>1.792993</td>\n",
       "      <td>-0.863291</td>\n",
       "      <td>-0.010309</td>\n",
       "      <td>1.247203</td>\n",
       "      <td>0.237609</td>\n",
       "      <td>0.377436</td>\n",
       "      <td>-1.387024</td>\n",
       "      <td>...</td>\n",
       "      <td>-0.108300</td>\n",
       "      <td>0.005274</td>\n",
       "      <td>-0.190321</td>\n",
       "      <td>-1.175575</td>\n",
       "      <td>0.647376</td>\n",
       "      <td>-0.221929</td>\n",
       "      <td>0.062723</td>\n",
       "      <td>0.061458</td>\n",
       "      <td>123.50</td>\n",
       "      <td>0</td>\n",
       "    </tr>\n",
       "    <tr>\n",
       "      <th>4</th>\n",
       "      <td>2.0</td>\n",
       "      <td>-1.158233</td>\n",
       "      <td>0.877737</td>\n",
       "      <td>1.548718</td>\n",
       "      <td>0.403034</td>\n",
       "      <td>-0.407193</td>\n",
       "      <td>0.095921</td>\n",
       "      <td>0.592941</td>\n",
       "      <td>-0.270533</td>\n",
       "      <td>0.817739</td>\n",
       "      <td>...</td>\n",
       "      <td>-0.009431</td>\n",
       "      <td>0.798278</td>\n",
       "      <td>-0.137458</td>\n",
       "      <td>0.141267</td>\n",
       "      <td>-0.206010</td>\n",
       "      <td>0.502292</td>\n",
       "      <td>0.219422</td>\n",
       "      <td>0.215153</td>\n",
       "      <td>69.99</td>\n",
       "      <td>0</td>\n",
       "    </tr>\n",
       "    <tr>\n",
       "      <th>5</th>\n",
       "      <td>2.0</td>\n",
       "      <td>-0.425966</td>\n",
       "      <td>0.960523</td>\n",
       "      <td>1.141109</td>\n",
       "      <td>-0.168252</td>\n",
       "      <td>0.420987</td>\n",
       "      <td>-0.029728</td>\n",
       "      <td>0.476201</td>\n",
       "      <td>0.260314</td>\n",
       "      <td>-0.568671</td>\n",
       "      <td>...</td>\n",
       "      <td>-0.208254</td>\n",
       "      <td>-0.559825</td>\n",
       "      <td>-0.026398</td>\n",
       "      <td>-0.371427</td>\n",
       "      <td>-0.232794</td>\n",
       "      <td>0.105915</td>\n",
       "      <td>0.253844</td>\n",
       "      <td>0.081080</td>\n",
       "      <td>3.67</td>\n",
       "      <td>0</td>\n",
       "    </tr>\n",
       "    <tr>\n",
       "      <th>6</th>\n",
       "      <td>4.0</td>\n",
       "      <td>1.229658</td>\n",
       "      <td>0.141004</td>\n",
       "      <td>0.045371</td>\n",
       "      <td>1.202613</td>\n",
       "      <td>0.191881</td>\n",
       "      <td>0.272708</td>\n",
       "      <td>-0.005159</td>\n",
       "      <td>0.081213</td>\n",
       "      <td>0.464960</td>\n",
       "      <td>...</td>\n",
       "      <td>-0.167716</td>\n",
       "      <td>-0.270710</td>\n",
       "      <td>-0.154104</td>\n",
       "      <td>-0.780055</td>\n",
       "      <td>0.750137</td>\n",
       "      <td>-0.257237</td>\n",
       "      <td>0.034507</td>\n",
       "      <td>0.005168</td>\n",
       "      <td>4.99</td>\n",
       "      <td>0</td>\n",
       "    </tr>\n",
       "    <tr>\n",
       "      <th>7</th>\n",
       "      <td>7.0</td>\n",
       "      <td>-0.644269</td>\n",
       "      <td>1.417964</td>\n",
       "      <td>1.074380</td>\n",
       "      <td>-0.492199</td>\n",
       "      <td>0.948934</td>\n",
       "      <td>0.428118</td>\n",
       "      <td>1.120631</td>\n",
       "      <td>-3.807864</td>\n",
       "      <td>0.615375</td>\n",
       "      <td>...</td>\n",
       "      <td>1.943465</td>\n",
       "      <td>-1.015455</td>\n",
       "      <td>0.057504</td>\n",
       "      <td>-0.649709</td>\n",
       "      <td>-0.415267</td>\n",
       "      <td>-0.051634</td>\n",
       "      <td>-1.206921</td>\n",
       "      <td>-1.085339</td>\n",
       "      <td>40.80</td>\n",
       "      <td>0</td>\n",
       "    </tr>\n",
       "    <tr>\n",
       "      <th>8</th>\n",
       "      <td>7.0</td>\n",
       "      <td>-0.894286</td>\n",
       "      <td>0.286157</td>\n",
       "      <td>-0.113192</td>\n",
       "      <td>-0.271526</td>\n",
       "      <td>2.669599</td>\n",
       "      <td>3.721818</td>\n",
       "      <td>0.370145</td>\n",
       "      <td>0.851084</td>\n",
       "      <td>-0.392048</td>\n",
       "      <td>...</td>\n",
       "      <td>-0.073425</td>\n",
       "      <td>-0.268092</td>\n",
       "      <td>-0.204233</td>\n",
       "      <td>1.011592</td>\n",
       "      <td>0.373205</td>\n",
       "      <td>-0.384157</td>\n",
       "      <td>0.011747</td>\n",
       "      <td>0.142404</td>\n",
       "      <td>93.20</td>\n",
       "      <td>0</td>\n",
       "    </tr>\n",
       "    <tr>\n",
       "      <th>9</th>\n",
       "      <td>9.0</td>\n",
       "      <td>-0.338262</td>\n",
       "      <td>1.119593</td>\n",
       "      <td>1.044367</td>\n",
       "      <td>-0.222187</td>\n",
       "      <td>0.499361</td>\n",
       "      <td>-0.246761</td>\n",
       "      <td>0.651583</td>\n",
       "      <td>0.069539</td>\n",
       "      <td>-0.736727</td>\n",
       "      <td>...</td>\n",
       "      <td>-0.246914</td>\n",
       "      <td>-0.633753</td>\n",
       "      <td>-0.120794</td>\n",
       "      <td>-0.385050</td>\n",
       "      <td>-0.069733</td>\n",
       "      <td>0.094199</td>\n",
       "      <td>0.246219</td>\n",
       "      <td>0.083076</td>\n",
       "      <td>3.68</td>\n",
       "      <td>0</td>\n",
       "    </tr>\n",
       "  </tbody>\n",
       "</table>\n",
       "<p>10 rows × 31 columns</p>\n",
       "</div>"
      ],
      "text/plain": [
       "   Time        V1        V2        V3        V4        V5        V6        V7  \\\n",
       "0   0.0 -1.359807 -0.072781  2.536347  1.378155 -0.338321  0.462388  0.239599   \n",
       "1   0.0  1.191857  0.266151  0.166480  0.448154  0.060018 -0.082361 -0.078803   \n",
       "2   1.0 -1.358354 -1.340163  1.773209  0.379780 -0.503198  1.800499  0.791461   \n",
       "3   1.0 -0.966272 -0.185226  1.792993 -0.863291 -0.010309  1.247203  0.237609   \n",
       "4   2.0 -1.158233  0.877737  1.548718  0.403034 -0.407193  0.095921  0.592941   \n",
       "5   2.0 -0.425966  0.960523  1.141109 -0.168252  0.420987 -0.029728  0.476201   \n",
       "6   4.0  1.229658  0.141004  0.045371  1.202613  0.191881  0.272708 -0.005159   \n",
       "7   7.0 -0.644269  1.417964  1.074380 -0.492199  0.948934  0.428118  1.120631   \n",
       "8   7.0 -0.894286  0.286157 -0.113192 -0.271526  2.669599  3.721818  0.370145   \n",
       "9   9.0 -0.338262  1.119593  1.044367 -0.222187  0.499361 -0.246761  0.651583   \n",
       "\n",
       "         V8        V9  ...       V21       V22       V23       V24       V25  \\\n",
       "0  0.098698  0.363787  ... -0.018307  0.277838 -0.110474  0.066928  0.128539   \n",
       "1  0.085102 -0.255425  ... -0.225775 -0.638672  0.101288 -0.339846  0.167170   \n",
       "2  0.247676 -1.514654  ...  0.247998  0.771679  0.909412 -0.689281 -0.327642   \n",
       "3  0.377436 -1.387024  ... -0.108300  0.005274 -0.190321 -1.175575  0.647376   \n",
       "4 -0.270533  0.817739  ... -0.009431  0.798278 -0.137458  0.141267 -0.206010   \n",
       "5  0.260314 -0.568671  ... -0.208254 -0.559825 -0.026398 -0.371427 -0.232794   \n",
       "6  0.081213  0.464960  ... -0.167716 -0.270710 -0.154104 -0.780055  0.750137   \n",
       "7 -3.807864  0.615375  ...  1.943465 -1.015455  0.057504 -0.649709 -0.415267   \n",
       "8  0.851084 -0.392048  ... -0.073425 -0.268092 -0.204233  1.011592  0.373205   \n",
       "9  0.069539 -0.736727  ... -0.246914 -0.633753 -0.120794 -0.385050 -0.069733   \n",
       "\n",
       "        V26       V27       V28  Amount  Class  \n",
       "0 -0.189115  0.133558 -0.021053  149.62      0  \n",
       "1  0.125895 -0.008983  0.014724    2.69      0  \n",
       "2 -0.139097 -0.055353 -0.059752  378.66      0  \n",
       "3 -0.221929  0.062723  0.061458  123.50      0  \n",
       "4  0.502292  0.219422  0.215153   69.99      0  \n",
       "5  0.105915  0.253844  0.081080    3.67      0  \n",
       "6 -0.257237  0.034507  0.005168    4.99      0  \n",
       "7 -0.051634 -1.206921 -1.085339   40.80      0  \n",
       "8 -0.384157  0.011747  0.142404   93.20      0  \n",
       "9  0.094199  0.246219  0.083076    3.68      0  \n",
       "\n",
       "[10 rows x 31 columns]"
      ]
     },
     "execution_count": 5,
     "metadata": {},
     "output_type": "execute_result"
    }
   ],
   "source": [
    "df.head(10)"
   ]
  },
  {
   "cell_type": "code",
   "execution_count": 6,
   "metadata": {
    "execution": {
     "iopub.execute_input": "2021-12-06T13:10:34.263501Z",
     "iopub.status.busy": "2021-12-06T13:10:34.263281Z",
     "iopub.status.idle": "2021-12-06T13:10:34.270335Z",
     "shell.execute_reply": "2021-12-06T13:10:34.269483Z",
     "shell.execute_reply.started": "2021-12-06T13:10:34.263475Z"
    },
    "id": "fBmzK6zeN7x5",
    "outputId": "f077fb9f-d717-429b-e47e-7eea35833cf6",
    "papermill": {
     "duration": 0.046461,
     "end_time": "2021-12-06T08:04:22.392339",
     "exception": false,
     "start_time": "2021-12-06T08:04:22.345878",
     "status": "completed"
    },
    "tags": []
   },
   "outputs": [
    {
     "data": {
      "text/plain": [
       "Index(['Time', 'V1', 'V2', 'V3', 'V4', 'V5', 'V6', 'V7', 'V8', 'V9', 'V10',\n",
       "       'V11', 'V12', 'V13', 'V14', 'V15', 'V16', 'V17', 'V18', 'V19', 'V20',\n",
       "       'V21', 'V22', 'V23', 'V24', 'V25', 'V26', 'V27', 'V28', 'Amount',\n",
       "       'Class'],\n",
       "      dtype='object')"
      ]
     },
     "execution_count": 6,
     "metadata": {},
     "output_type": "execute_result"
    }
   ],
   "source": [
    "df.columns\n"
   ]
  },
  {
   "cell_type": "markdown",
   "metadata": {
    "id": "BkdyI5fqm7OL",
    "papermill": {
     "duration": 0.038006,
     "end_time": "2021-12-06T08:04:22.46906",
     "exception": false,
     "start_time": "2021-12-06T08:04:22.431054",
     "status": "completed"
    },
    "tags": []
   },
   "source": [
    "Due to confidentiality issues, the original features and background information about the data is not provided.\n",
    "Features V1, V2, … V28 are the principal components obtained with PCA"
   ]
  },
  {
   "cell_type": "code",
   "execution_count": 7,
   "metadata": {
    "execution": {
     "iopub.execute_input": "2021-12-06T13:10:34.27233Z",
     "iopub.status.busy": "2021-12-06T13:10:34.271595Z",
     "iopub.status.idle": "2021-12-06T13:10:34.282354Z",
     "shell.execute_reply": "2021-12-06T13:10:34.281628Z",
     "shell.execute_reply.started": "2021-12-06T13:10:34.272281Z"
    },
    "id": "odRc6JqBN-UM",
    "outputId": "e505b70a-ec27-4bb1-c3da-2588f70b331c",
    "papermill": {
     "duration": 0.048231,
     "end_time": "2021-12-06T08:04:22.555619",
     "exception": false,
     "start_time": "2021-12-06T08:04:22.507388",
     "status": "completed"
    },
    "tags": []
   },
   "outputs": [
    {
     "data": {
      "text/plain": [
       "(284807, 31)"
      ]
     },
     "execution_count": 7,
     "metadata": {},
     "output_type": "execute_result"
    }
   ],
   "source": [
    "df.shape"
   ]
  },
  {
   "cell_type": "markdown",
   "metadata": {
    "id": "DbBhgv2iY1fQ",
    "papermill": {
     "duration": 0.038616,
     "end_time": "2021-12-06T08:04:22.635212",
     "exception": false,
     "start_time": "2021-12-06T08:04:22.596596",
     "status": "completed"
    },
    "tags": []
   },
   "source": [
    "There are 284807 rows and 31 features"
   ]
  },
  {
   "cell_type": "code",
   "execution_count": 8,
   "metadata": {
    "execution": {
     "iopub.execute_input": "2021-12-06T13:10:34.284156Z",
     "iopub.status.busy": "2021-12-06T13:10:34.283718Z",
     "iopub.status.idle": "2021-12-06T13:10:34.331885Z",
     "shell.execute_reply": "2021-12-06T13:10:34.331271Z",
     "shell.execute_reply.started": "2021-12-06T13:10:34.284127Z"
    },
    "id": "c7agL5tn3cyb",
    "outputId": "3511d2ce-651f-47b1-fdec-63b27b258061",
    "papermill": {
     "duration": 0.088558,
     "end_time": "2021-12-06T08:04:22.762645",
     "exception": false,
     "start_time": "2021-12-06T08:04:22.674087",
     "status": "completed"
    },
    "tags": []
   },
   "outputs": [
    {
     "name": "stdout",
     "output_type": "stream",
     "text": [
      "<class 'pandas.core.frame.DataFrame'>\n",
      "RangeIndex: 284807 entries, 0 to 284806\n",
      "Data columns (total 31 columns):\n",
      " #   Column  Non-Null Count   Dtype  \n",
      "---  ------  --------------   -----  \n",
      " 0   Time    284807 non-null  float64\n",
      " 1   V1      284807 non-null  float64\n",
      " 2   V2      284807 non-null  float64\n",
      " 3   V3      284807 non-null  float64\n",
      " 4   V4      284807 non-null  float64\n",
      " 5   V5      284807 non-null  float64\n",
      " 6   V6      284807 non-null  float64\n",
      " 7   V7      284807 non-null  float64\n",
      " 8   V8      284807 non-null  float64\n",
      " 9   V9      284807 non-null  float64\n",
      " 10  V10     284807 non-null  float64\n",
      " 11  V11     284807 non-null  float64\n",
      " 12  V12     284807 non-null  float64\n",
      " 13  V13     284807 non-null  float64\n",
      " 14  V14     284807 non-null  float64\n",
      " 15  V15     284807 non-null  float64\n",
      " 16  V16     284807 non-null  float64\n",
      " 17  V17     284807 non-null  float64\n",
      " 18  V18     284807 non-null  float64\n",
      " 19  V19     284807 non-null  float64\n",
      " 20  V20     284807 non-null  float64\n",
      " 21  V21     284807 non-null  float64\n",
      " 22  V22     284807 non-null  float64\n",
      " 23  V23     284807 non-null  float64\n",
      " 24  V24     284807 non-null  float64\n",
      " 25  V25     284807 non-null  float64\n",
      " 26  V26     284807 non-null  float64\n",
      " 27  V27     284807 non-null  float64\n",
      " 28  V28     284807 non-null  float64\n",
      " 29  Amount  284807 non-null  float64\n",
      " 30  Class   284807 non-null  int64  \n",
      "dtypes: float64(30), int64(1)\n",
      "memory usage: 67.4 MB\n"
     ]
    }
   ],
   "source": [
    "df.info()"
   ]
  },
  {
   "cell_type": "code",
   "execution_count": 9,
   "metadata": {
    "execution": {
     "iopub.execute_input": "2021-12-06T13:10:34.333395Z",
     "iopub.status.busy": "2021-12-06T13:10:34.333072Z",
     "iopub.status.idle": "2021-12-06T13:10:34.766001Z",
     "shell.execute_reply": "2021-12-06T13:10:34.764965Z",
     "shell.execute_reply.started": "2021-12-06T13:10:34.333364Z"
    },
    "id": "yWmWa40cOHWW",
    "outputId": "b0ec4569-06fe-4680-dfe6-3e76b7122d0a",
    "papermill": {
     "duration": 0.457167,
     "end_time": "2021-12-06T08:04:23.260404",
     "exception": false,
     "start_time": "2021-12-06T08:04:22.803237",
     "status": "completed"
    },
    "tags": []
   },
   "outputs": [
    {
     "data": {
      "text/html": [
       "<div>\n",
       "<style scoped>\n",
       "    .dataframe tbody tr th:only-of-type {\n",
       "        vertical-align: middle;\n",
       "    }\n",
       "\n",
       "    .dataframe tbody tr th {\n",
       "        vertical-align: top;\n",
       "    }\n",
       "\n",
       "    .dataframe thead th {\n",
       "        text-align: right;\n",
       "    }\n",
       "</style>\n",
       "<table border=\"1\" class=\"dataframe\">\n",
       "  <thead>\n",
       "    <tr style=\"text-align: right;\">\n",
       "      <th></th>\n",
       "      <th>Time</th>\n",
       "      <th>V1</th>\n",
       "      <th>V2</th>\n",
       "      <th>V3</th>\n",
       "      <th>V4</th>\n",
       "      <th>V5</th>\n",
       "      <th>V6</th>\n",
       "      <th>V7</th>\n",
       "      <th>V8</th>\n",
       "      <th>V9</th>\n",
       "      <th>...</th>\n",
       "      <th>V21</th>\n",
       "      <th>V22</th>\n",
       "      <th>V23</th>\n",
       "      <th>V24</th>\n",
       "      <th>V25</th>\n",
       "      <th>V26</th>\n",
       "      <th>V27</th>\n",
       "      <th>V28</th>\n",
       "      <th>Amount</th>\n",
       "      <th>Class</th>\n",
       "    </tr>\n",
       "  </thead>\n",
       "  <tbody>\n",
       "    <tr>\n",
       "      <th>count</th>\n",
       "      <td>284807.000000</td>\n",
       "      <td>2.848070e+05</td>\n",
       "      <td>2.848070e+05</td>\n",
       "      <td>2.848070e+05</td>\n",
       "      <td>2.848070e+05</td>\n",
       "      <td>2.848070e+05</td>\n",
       "      <td>2.848070e+05</td>\n",
       "      <td>2.848070e+05</td>\n",
       "      <td>2.848070e+05</td>\n",
       "      <td>2.848070e+05</td>\n",
       "      <td>...</td>\n",
       "      <td>2.848070e+05</td>\n",
       "      <td>2.848070e+05</td>\n",
       "      <td>2.848070e+05</td>\n",
       "      <td>2.848070e+05</td>\n",
       "      <td>2.848070e+05</td>\n",
       "      <td>2.848070e+05</td>\n",
       "      <td>2.848070e+05</td>\n",
       "      <td>2.848070e+05</td>\n",
       "      <td>284807.000000</td>\n",
       "      <td>284807.000000</td>\n",
       "    </tr>\n",
       "    <tr>\n",
       "      <th>mean</th>\n",
       "      <td>94813.859575</td>\n",
       "      <td>3.918649e-15</td>\n",
       "      <td>5.682686e-16</td>\n",
       "      <td>-8.761736e-15</td>\n",
       "      <td>2.811118e-15</td>\n",
       "      <td>-1.552103e-15</td>\n",
       "      <td>2.040130e-15</td>\n",
       "      <td>-1.698953e-15</td>\n",
       "      <td>-1.893285e-16</td>\n",
       "      <td>-3.147640e-15</td>\n",
       "      <td>...</td>\n",
       "      <td>1.473120e-16</td>\n",
       "      <td>8.042109e-16</td>\n",
       "      <td>5.282512e-16</td>\n",
       "      <td>4.456271e-15</td>\n",
       "      <td>1.426896e-15</td>\n",
       "      <td>1.701640e-15</td>\n",
       "      <td>-3.662252e-16</td>\n",
       "      <td>-1.217809e-16</td>\n",
       "      <td>88.349619</td>\n",
       "      <td>0.001727</td>\n",
       "    </tr>\n",
       "    <tr>\n",
       "      <th>std</th>\n",
       "      <td>47488.145955</td>\n",
       "      <td>1.958696e+00</td>\n",
       "      <td>1.651309e+00</td>\n",
       "      <td>1.516255e+00</td>\n",
       "      <td>1.415869e+00</td>\n",
       "      <td>1.380247e+00</td>\n",
       "      <td>1.332271e+00</td>\n",
       "      <td>1.237094e+00</td>\n",
       "      <td>1.194353e+00</td>\n",
       "      <td>1.098632e+00</td>\n",
       "      <td>...</td>\n",
       "      <td>7.345240e-01</td>\n",
       "      <td>7.257016e-01</td>\n",
       "      <td>6.244603e-01</td>\n",
       "      <td>6.056471e-01</td>\n",
       "      <td>5.212781e-01</td>\n",
       "      <td>4.822270e-01</td>\n",
       "      <td>4.036325e-01</td>\n",
       "      <td>3.300833e-01</td>\n",
       "      <td>250.120109</td>\n",
       "      <td>0.041527</td>\n",
       "    </tr>\n",
       "    <tr>\n",
       "      <th>min</th>\n",
       "      <td>0.000000</td>\n",
       "      <td>-5.640751e+01</td>\n",
       "      <td>-7.271573e+01</td>\n",
       "      <td>-4.832559e+01</td>\n",
       "      <td>-5.683171e+00</td>\n",
       "      <td>-1.137433e+02</td>\n",
       "      <td>-2.616051e+01</td>\n",
       "      <td>-4.355724e+01</td>\n",
       "      <td>-7.321672e+01</td>\n",
       "      <td>-1.343407e+01</td>\n",
       "      <td>...</td>\n",
       "      <td>-3.483038e+01</td>\n",
       "      <td>-1.093314e+01</td>\n",
       "      <td>-4.480774e+01</td>\n",
       "      <td>-2.836627e+00</td>\n",
       "      <td>-1.029540e+01</td>\n",
       "      <td>-2.604551e+00</td>\n",
       "      <td>-2.256568e+01</td>\n",
       "      <td>-1.543008e+01</td>\n",
       "      <td>0.000000</td>\n",
       "      <td>0.000000</td>\n",
       "    </tr>\n",
       "    <tr>\n",
       "      <th>25%</th>\n",
       "      <td>54201.500000</td>\n",
       "      <td>-9.203734e-01</td>\n",
       "      <td>-5.985499e-01</td>\n",
       "      <td>-8.903648e-01</td>\n",
       "      <td>-8.486401e-01</td>\n",
       "      <td>-6.915971e-01</td>\n",
       "      <td>-7.682956e-01</td>\n",
       "      <td>-5.540759e-01</td>\n",
       "      <td>-2.086297e-01</td>\n",
       "      <td>-6.430976e-01</td>\n",
       "      <td>...</td>\n",
       "      <td>-2.283949e-01</td>\n",
       "      <td>-5.423504e-01</td>\n",
       "      <td>-1.618463e-01</td>\n",
       "      <td>-3.545861e-01</td>\n",
       "      <td>-3.171451e-01</td>\n",
       "      <td>-3.269839e-01</td>\n",
       "      <td>-7.083953e-02</td>\n",
       "      <td>-5.295979e-02</td>\n",
       "      <td>5.600000</td>\n",
       "      <td>0.000000</td>\n",
       "    </tr>\n",
       "    <tr>\n",
       "      <th>50%</th>\n",
       "      <td>84692.000000</td>\n",
       "      <td>1.810880e-02</td>\n",
       "      <td>6.548556e-02</td>\n",
       "      <td>1.798463e-01</td>\n",
       "      <td>-1.984653e-02</td>\n",
       "      <td>-5.433583e-02</td>\n",
       "      <td>-2.741871e-01</td>\n",
       "      <td>4.010308e-02</td>\n",
       "      <td>2.235804e-02</td>\n",
       "      <td>-5.142873e-02</td>\n",
       "      <td>...</td>\n",
       "      <td>-2.945017e-02</td>\n",
       "      <td>6.781943e-03</td>\n",
       "      <td>-1.119293e-02</td>\n",
       "      <td>4.097606e-02</td>\n",
       "      <td>1.659350e-02</td>\n",
       "      <td>-5.213911e-02</td>\n",
       "      <td>1.342146e-03</td>\n",
       "      <td>1.124383e-02</td>\n",
       "      <td>22.000000</td>\n",
       "      <td>0.000000</td>\n",
       "    </tr>\n",
       "    <tr>\n",
       "      <th>75%</th>\n",
       "      <td>139320.500000</td>\n",
       "      <td>1.315642e+00</td>\n",
       "      <td>8.037239e-01</td>\n",
       "      <td>1.027196e+00</td>\n",
       "      <td>7.433413e-01</td>\n",
       "      <td>6.119264e-01</td>\n",
       "      <td>3.985649e-01</td>\n",
       "      <td>5.704361e-01</td>\n",
       "      <td>3.273459e-01</td>\n",
       "      <td>5.971390e-01</td>\n",
       "      <td>...</td>\n",
       "      <td>1.863772e-01</td>\n",
       "      <td>5.285536e-01</td>\n",
       "      <td>1.476421e-01</td>\n",
       "      <td>4.395266e-01</td>\n",
       "      <td>3.507156e-01</td>\n",
       "      <td>2.409522e-01</td>\n",
       "      <td>9.104512e-02</td>\n",
       "      <td>7.827995e-02</td>\n",
       "      <td>77.165000</td>\n",
       "      <td>0.000000</td>\n",
       "    </tr>\n",
       "    <tr>\n",
       "      <th>max</th>\n",
       "      <td>172792.000000</td>\n",
       "      <td>2.454930e+00</td>\n",
       "      <td>2.205773e+01</td>\n",
       "      <td>9.382558e+00</td>\n",
       "      <td>1.687534e+01</td>\n",
       "      <td>3.480167e+01</td>\n",
       "      <td>7.330163e+01</td>\n",
       "      <td>1.205895e+02</td>\n",
       "      <td>2.000721e+01</td>\n",
       "      <td>1.559499e+01</td>\n",
       "      <td>...</td>\n",
       "      <td>2.720284e+01</td>\n",
       "      <td>1.050309e+01</td>\n",
       "      <td>2.252841e+01</td>\n",
       "      <td>4.584549e+00</td>\n",
       "      <td>7.519589e+00</td>\n",
       "      <td>3.517346e+00</td>\n",
       "      <td>3.161220e+01</td>\n",
       "      <td>3.384781e+01</td>\n",
       "      <td>25691.160000</td>\n",
       "      <td>1.000000</td>\n",
       "    </tr>\n",
       "  </tbody>\n",
       "</table>\n",
       "<p>8 rows × 31 columns</p>\n",
       "</div>"
      ],
      "text/plain": [
       "                Time            V1            V2            V3            V4  \\\n",
       "count  284807.000000  2.848070e+05  2.848070e+05  2.848070e+05  2.848070e+05   \n",
       "mean    94813.859575  3.918649e-15  5.682686e-16 -8.761736e-15  2.811118e-15   \n",
       "std     47488.145955  1.958696e+00  1.651309e+00  1.516255e+00  1.415869e+00   \n",
       "min         0.000000 -5.640751e+01 -7.271573e+01 -4.832559e+01 -5.683171e+00   \n",
       "25%     54201.500000 -9.203734e-01 -5.985499e-01 -8.903648e-01 -8.486401e-01   \n",
       "50%     84692.000000  1.810880e-02  6.548556e-02  1.798463e-01 -1.984653e-02   \n",
       "75%    139320.500000  1.315642e+00  8.037239e-01  1.027196e+00  7.433413e-01   \n",
       "max    172792.000000  2.454930e+00  2.205773e+01  9.382558e+00  1.687534e+01   \n",
       "\n",
       "                 V5            V6            V7            V8            V9  \\\n",
       "count  2.848070e+05  2.848070e+05  2.848070e+05  2.848070e+05  2.848070e+05   \n",
       "mean  -1.552103e-15  2.040130e-15 -1.698953e-15 -1.893285e-16 -3.147640e-15   \n",
       "std    1.380247e+00  1.332271e+00  1.237094e+00  1.194353e+00  1.098632e+00   \n",
       "min   -1.137433e+02 -2.616051e+01 -4.355724e+01 -7.321672e+01 -1.343407e+01   \n",
       "25%   -6.915971e-01 -7.682956e-01 -5.540759e-01 -2.086297e-01 -6.430976e-01   \n",
       "50%   -5.433583e-02 -2.741871e-01  4.010308e-02  2.235804e-02 -5.142873e-02   \n",
       "75%    6.119264e-01  3.985649e-01  5.704361e-01  3.273459e-01  5.971390e-01   \n",
       "max    3.480167e+01  7.330163e+01  1.205895e+02  2.000721e+01  1.559499e+01   \n",
       "\n",
       "       ...           V21           V22           V23           V24  \\\n",
       "count  ...  2.848070e+05  2.848070e+05  2.848070e+05  2.848070e+05   \n",
       "mean   ...  1.473120e-16  8.042109e-16  5.282512e-16  4.456271e-15   \n",
       "std    ...  7.345240e-01  7.257016e-01  6.244603e-01  6.056471e-01   \n",
       "min    ... -3.483038e+01 -1.093314e+01 -4.480774e+01 -2.836627e+00   \n",
       "25%    ... -2.283949e-01 -5.423504e-01 -1.618463e-01 -3.545861e-01   \n",
       "50%    ... -2.945017e-02  6.781943e-03 -1.119293e-02  4.097606e-02   \n",
       "75%    ...  1.863772e-01  5.285536e-01  1.476421e-01  4.395266e-01   \n",
       "max    ...  2.720284e+01  1.050309e+01  2.252841e+01  4.584549e+00   \n",
       "\n",
       "                V25           V26           V27           V28         Amount  \\\n",
       "count  2.848070e+05  2.848070e+05  2.848070e+05  2.848070e+05  284807.000000   \n",
       "mean   1.426896e-15  1.701640e-15 -3.662252e-16 -1.217809e-16      88.349619   \n",
       "std    5.212781e-01  4.822270e-01  4.036325e-01  3.300833e-01     250.120109   \n",
       "min   -1.029540e+01 -2.604551e+00 -2.256568e+01 -1.543008e+01       0.000000   \n",
       "25%   -3.171451e-01 -3.269839e-01 -7.083953e-02 -5.295979e-02       5.600000   \n",
       "50%    1.659350e-02 -5.213911e-02  1.342146e-03  1.124383e-02      22.000000   \n",
       "75%    3.507156e-01  2.409522e-01  9.104512e-02  7.827995e-02      77.165000   \n",
       "max    7.519589e+00  3.517346e+00  3.161220e+01  3.384781e+01   25691.160000   \n",
       "\n",
       "               Class  \n",
       "count  284807.000000  \n",
       "mean        0.001727  \n",
       "std         0.041527  \n",
       "min         0.000000  \n",
       "25%         0.000000  \n",
       "50%         0.000000  \n",
       "75%         0.000000  \n",
       "max         1.000000  \n",
       "\n",
       "[8 rows x 31 columns]"
      ]
     },
     "execution_count": 9,
     "metadata": {},
     "output_type": "execute_result"
    }
   ],
   "source": [
    "df.describe()"
   ]
  },
  {
   "cell_type": "code",
   "execution_count": 10,
   "metadata": {
    "execution": {
     "iopub.execute_input": "2021-12-06T13:10:34.767905Z",
     "iopub.status.busy": "2021-12-06T13:10:34.767601Z",
     "iopub.status.idle": "2021-12-06T13:10:38.837752Z",
     "shell.execute_reply": "2021-12-06T13:10:38.836948Z",
     "shell.execute_reply.started": "2021-12-06T13:10:34.767865Z"
    },
    "id": "dxmKV8hir2Wt",
    "outputId": "8ac9701a-1db0-41a4-bdd4-f12a3c851e6b",
    "papermill": {
     "duration": 3.968217,
     "end_time": "2021-12-06T08:04:27.270463",
     "exception": false,
     "start_time": "2021-12-06T08:04:23.302246",
     "status": "completed"
    },
    "tags": []
   },
   "outputs": [
    {
     "data": {
      "image/png": "[encoded data removed]",
      "text/plain": [
       "<Figure size 1440x1440 with 36 Axes>"
      ]
     },
     "metadata": {
      "needs_background": "light"
     },
     "output_type": "display_data"
    }
   ],
   "source": [
    "df.hist(figsize = (20, 20))\n",
    "plt.show()"
   ]
  },
  {
   "cell_type": "code",
   "execution_count": 11,
   "metadata": {
    "execution": {
     "iopub.execute_input": "2021-12-06T13:10:38.840769Z",
     "iopub.status.busy": "2021-12-06T13:10:38.839952Z",
     "iopub.status.idle": "2021-12-06T13:10:38.859459Z",
     "shell.execute_reply": "2021-12-06T13:10:38.858558Z",
     "shell.execute_reply.started": "2021-12-06T13:10:38.840719Z"
    },
    "id": "zxlwXen8dGzI",
    "outputId": "bfb89b49-e0d6-47e3-9ffa-b1ef45589be1",
    "papermill": {
     "duration": 0.065993,
     "end_time": "2021-12-06T08:04:27.384514",
     "exception": false,
     "start_time": "2021-12-06T08:04:27.318521",
     "status": "completed"
    },
    "tags": []
   },
   "outputs": [
    {
     "name": "stdout",
     "output_type": "stream",
     "text": [
      "Valid Transactions:\n"
     ]
    },
    {
     "data": {
      "text/plain": [
       "count    284315.000000\n",
       "mean      94838.202258\n",
       "std       47484.015786\n",
       "min           0.000000\n",
       "25%       54230.000000\n",
       "50%       84711.000000\n",
       "75%      139333.000000\n",
       "max      172792.000000\n",
       "Name: Time, dtype: float64"
      ]
     },
     "execution_count": 11,
     "metadata": {},
     "output_type": "execute_result"
    }
   ],
   "source": [
    "# analysing the fraud and not_fraud cases separately\n",
    "print(\"Valid Transactions:\")\n",
    "df.Time[df.Class==0].describe()\n"
   ]
  },
  {
   "cell_type": "code",
   "execution_count": 12,
   "metadata": {
    "execution": {
     "iopub.execute_input": "2021-12-06T13:10:38.861289Z",
     "iopub.status.busy": "2021-12-06T13:10:38.86071Z",
     "iopub.status.idle": "2021-12-06T13:10:38.883183Z",
     "shell.execute_reply": "2021-12-06T13:10:38.882345Z",
     "shell.execute_reply.started": "2021-12-06T13:10:38.861257Z"
    },
    "id": "qTg6QJE6X3vF",
    "outputId": "1c105ba6-e654-41c6-ae61-3d1e628632be",
    "papermill": {
     "duration": 0.070962,
     "end_time": "2021-12-06T08:04:27.500313",
     "exception": false,
     "start_time": "2021-12-06T08:04:27.429351",
     "status": "completed"
    },
    "tags": []
   },
   "outputs": [
    {
     "data": {
      "text/plain": [
       "count    284315.000000\n",
       "mean         88.291022\n",
       "std         250.105092\n",
       "min           0.000000\n",
       "25%           5.650000\n",
       "50%          22.000000\n",
       "75%          77.050000\n",
       "max       25691.160000\n",
       "Name: Amount, dtype: float64"
      ]
     },
     "execution_count": 12,
     "metadata": {},
     "output_type": "execute_result"
    }
   ],
   "source": [
    "df.Amount[df.Class==0].describe()"
   ]
  },
  {
   "cell_type": "code",
   "execution_count": 13,
   "metadata": {
    "execution": {
     "iopub.execute_input": "2021-12-06T13:10:38.885194Z",
     "iopub.status.busy": "2021-12-06T13:10:38.884737Z",
     "iopub.status.idle": "2021-12-06T13:10:38.897467Z",
     "shell.execute_reply": "2021-12-06T13:10:38.896711Z",
     "shell.execute_reply.started": "2021-12-06T13:10:38.885153Z"
    },
    "id": "JfYKljBxeYSN",
    "outputId": "7b5c0a9e-6f91-4211-8799-f59d16b94e04",
    "papermill": {
     "duration": 0.059139,
     "end_time": "2021-12-06T08:04:27.605281",
     "exception": false,
     "start_time": "2021-12-06T08:04:27.546142",
     "status": "completed"
    },
    "tags": []
   },
   "outputs": [
    {
     "name": "stdout",
     "output_type": "stream",
     "text": [
      "Fraudelent Transactions:\n"
     ]
    },
    {
     "data": {
      "text/plain": [
       "count       492.000000\n",
       "mean      80746.806911\n",
       "std       47835.365138\n",
       "min         406.000000\n",
       "25%       41241.500000\n",
       "50%       75568.500000\n",
       "75%      128483.000000\n",
       "max      170348.000000\n",
       "Name: Time, dtype: float64"
      ]
     },
     "execution_count": 13,
     "metadata": {},
     "output_type": "execute_result"
    }
   ],
   "source": [
    "print(\"Fraudelent Transactions:\")\n",
    "df.Time[df.Class==1].describe()"
   ]
  },
  {
   "cell_type": "markdown",
   "metadata": {
    "id": "Cyr34pyT392p",
    "papermill": {
     "duration": 0.045796,
     "end_time": "2021-12-06T08:04:27.69869",
     "exception": false,
     "start_time": "2021-12-06T08:04:27.652894",
     "status": "completed"
    },
    "tags": []
   },
   "source": [
    "We can notice that the number of fraud cases is very few compared to the number of valid transactions which portrays that it is an imbalanced dataset. We also notice that the standard deviation for frauds wrt time is more than that of valid transactions which means frauds are more evenly spread compared to valid ones. We will investigate more on this below with a histogram."
   ]
  },
  {
   "cell_type": "code",
   "execution_count": 14,
   "metadata": {
    "execution": {
     "iopub.execute_input": "2021-12-06T13:10:38.899172Z",
     "iopub.status.busy": "2021-12-06T13:10:38.898822Z",
     "iopub.status.idle": "2021-12-06T13:10:38.908639Z",
     "shell.execute_reply": "2021-12-06T13:10:38.907709Z",
     "shell.execute_reply.started": "2021-12-06T13:10:38.899139Z"
    },
    "id": "jcojHxXwX-dU",
    "outputId": "6ab0fb69-8300-4f6f-f6b7-cfe709e361a0",
    "papermill": {
     "duration": 0.057999,
     "end_time": "2021-12-06T08:04:27.802331",
     "exception": false,
     "start_time": "2021-12-06T08:04:27.744332",
     "status": "completed"
    },
    "tags": []
   },
   "outputs": [
    {
     "data": {
      "text/plain": [
       "count     492.000000\n",
       "mean      122.211321\n",
       "std       256.683288\n",
       "min         0.000000\n",
       "25%         1.000000\n",
       "50%         9.250000\n",
       "75%       105.890000\n",
       "max      2125.870000\n",
       "Name: Amount, dtype: float64"
      ]
     },
     "execution_count": 14,
     "metadata": {},
     "output_type": "execute_result"
    }
   ],
   "source": [
    "df.Amount[df.Class==1].describe()"
   ]
  },
  {
   "cell_type": "markdown",
   "metadata": {
    "id": "uhtMZkZJYJF-",
    "papermill": {
     "duration": 0.046628,
     "end_time": "2021-12-06T08:04:27.895407",
     "exception": false,
     "start_time": "2021-12-06T08:04:27.848779",
     "status": "completed"
    },
    "tags": []
   },
   "source": [
    "We can also notice that the min for fraudelent transaction amount is 0 and for valid, its 406. While the max amount of frauds is only 2125 whereas for valid its 25691, we can still see that the mean amount for fraudulent transactions 122 is higher than for the valid transactions which is 88. This makes sense since people who commit frauds want to to extract the maximum possible without getting caught and so mean is higher but max is still lower.\n",
    "We can see in the below graph too that it is clearly a skewed distribution.  "
   ]
  },
  {
   "cell_type": "code",
   "execution_count": 15,
   "metadata": {
    "execution": {
     "iopub.execute_input": "2021-12-06T13:10:38.911015Z",
     "iopub.status.busy": "2021-12-06T13:10:38.910439Z",
     "iopub.status.idle": "2021-12-06T13:10:39.064868Z",
     "shell.execute_reply": "2021-12-06T13:10:39.064117Z",
     "shell.execute_reply.started": "2021-12-06T13:10:38.910972Z"
    },
    "id": "W9gcRioYLpjT",
    "outputId": "e0dfda03-b4b4-4891-9a3f-8dae053886ac",
    "papermill": {
     "duration": 0.243199,
     "end_time": "2021-12-06T08:04:28.184904",
     "exception": false,
     "start_time": "2021-12-06T08:04:27.941705",
     "status": "completed"
    },
    "tags": []
   },
   "outputs": [
    {
     "name": "stderr",
     "output_type": "stream",
     "text": [
      "C:\\Users\\sreen\\Anaconda3\\lib\\site-packages\\seaborn\\_decorators.py:43: FutureWarning: Pass the following variable as a keyword arg: x. From version 0.12, the only valid positional argument will be `data`, and passing other arguments without an explicit keyword will result in an error or misinterpretation.\n",
      "  FutureWarning\n"
     ]
    },
    {
     "data": {
      "text/plain": [
       "Text(0.5, 1.0, 'Frequency of fraud and valid transactions')"
      ]
     },
     "execution_count": 15,
     "metadata": {},
     "output_type": "execute_result"
    },
    {
     "data": {
      "image/png": "[encoded data removed]",
      "text/plain": [
       "<Figure size 432x288 with 1 Axes>"
      ]
     },
     "metadata": {
      "needs_background": "light"
     },
     "output_type": "display_data"
    }
   ],
   "source": [
    "colors = [\"green\", \"red\"]\n",
    "sns.countplot('Class', data=df, palette=colors)\n",
    "plt.title('Frequency of fraud and valid transactions', fontsize=14)"
   ]
  },
  {
   "cell_type": "code",
   "execution_count": 16,
   "metadata": {
    "execution": {
     "iopub.execute_input": "2021-12-06T13:10:39.066743Z",
     "iopub.status.busy": "2021-12-06T13:10:39.066268Z",
     "iopub.status.idle": "2021-12-06T13:10:39.493384Z",
     "shell.execute_reply": "2021-12-06T13:10:39.492431Z",
     "shell.execute_reply.started": "2021-12-06T13:10:39.066701Z"
    },
    "id": "RnHNvu0cgZyE",
    "outputId": "b3e1e2fb-0303-4d1b-a372-07ad1db5f933",
    "papermill": {
     "duration": 0.482328,
     "end_time": "2021-12-06T08:04:28.72093",
     "exception": false,
     "start_time": "2021-12-06T08:04:28.238602",
     "status": "completed"
    },
    "tags": []
   },
   "outputs": [
    {
     "name": "stdout",
     "output_type": "stream",
     "text": [
      "Count of outliers in the dataset= 370864\n"
     ]
    }
   ],
   "source": [
    "#OUTLIERS\n",
    "#FINDING IQR\n",
    "Q1=df.quantile(0.25)\n",
    "Q3=df.quantile(0.75)\n",
    "IQR=Q3-Q1\n",
    "#COUNTING OUTLIERS IN THE ENTIRE DATASET\n",
    "print(\"Count of outliers in the dataset=\",((df < (Q1 - 1.5 * IQR)) | (df > (Q3 + 1.5 * IQR))).sum().sum())"
   ]
  },
  {
   "cell_type": "code",
   "execution_count": 17,
   "metadata": {
    "execution": {
     "iopub.execute_input": "2021-12-06T13:10:39.495891Z",
     "iopub.status.busy": "2021-12-06T13:10:39.495403Z",
     "iopub.status.idle": "2021-12-06T13:10:39.536815Z",
     "shell.execute_reply": "2021-12-06T13:10:39.535978Z",
     "shell.execute_reply.started": "2021-12-06T13:10:39.495846Z"
    },
    "id": "uX8UfV94OHby",
    "outputId": "8409ed7e-50ee-4374-e4b1-4cf318f0107b",
    "papermill": {
     "duration": 0.088655,
     "end_time": "2021-12-06T08:04:28.858248",
     "exception": false,
     "start_time": "2021-12-06T08:04:28.769593",
     "status": "completed"
    },
    "tags": []
   },
   "outputs": [
    {
     "data": {
      "text/plain": [
       "0.1727485630620034"
      ]
     },
     "execution_count": 17,
     "metadata": {},
     "output_type": "execute_result"
    }
   ],
   "source": [
    "fraud = df[df['Class'] == 1]\n",
    "not_fraud = df[df['Class'] == 0]\n",
    "fraud_perc=(len(fraud)/len(df))*100\n",
    "fraud_perc"
   ]
  },
  {
   "cell_type": "code",
   "execution_count": 18,
   "metadata": {
    "execution": {
     "iopub.execute_input": "2021-12-06T13:10:39.539087Z",
     "iopub.status.busy": "2021-12-06T13:10:39.538098Z",
     "iopub.status.idle": "2021-12-06T13:10:40.517097Z",
     "shell.execute_reply": "2021-12-06T13:10:40.516295Z",
     "shell.execute_reply.started": "2021-12-06T13:10:39.539043Z"
    },
    "id": "9_tLGM-5HaoZ",
    "outputId": "93d95ce2-b9bc-4bb8-91e2-6665112775aa",
    "papermill": {
     "duration": 0.87912,
     "end_time": "2021-12-06T08:04:29.787232",
     "exception": false,
     "start_time": "2021-12-06T08:04:28.908112",
     "status": "completed"
    },
    "tags": []
   },
   "outputs": [
    {
     "data": {
      "image/png": "[encoded data removed]",
      "text/plain": [
       "<Figure size 1080x720 with 1 Axes>"
      ]
     },
     "metadata": {
      "needs_background": "light"
     },
     "output_type": "display_data"
    }
   ],
   "source": [
    "seconds=3600\n",
    "plt.figure(figsize=(15,10))\n",
    "plt.scatter((not_fraud.Time/(seconds)), not_fraud.Amount, alpha=0.6, label='Not_Fraud')\n",
    "plt.scatter((fraud.Time/(seconds)), fraud.Amount, alpha=0.9, label='Fraud')\n",
    "plt.title(\"Transaction amount per hour\")\n",
    "plt.xlabel(\"Transaction time \")\n",
    "plt.ylabel('Amount (USD)')\n",
    "plt.legend(loc='upper left')\n",
    "plt.show()"
   ]
  },
  {
   "cell_type": "markdown",
   "metadata": {
    "id": "xlujrAixbSUp",
    "papermill": {
     "duration": 0.051207,
     "end_time": "2021-12-06T08:04:29.889664",
     "exception": false,
     "start_time": "2021-12-06T08:04:29.838457",
     "status": "completed"
    },
    "tags": []
   },
   "source": [
    "We can see that most of the frauds have a lower amount than valid transactions"
   ]
  },
  {
   "cell_type": "code",
   "execution_count": 19,
   "metadata": {
    "execution": {
     "iopub.execute_input": "2021-12-06T13:10:40.519442Z",
     "iopub.status.busy": "2021-12-06T13:10:40.518854Z",
     "iopub.status.idle": "2021-12-06T13:10:41.362403Z",
     "shell.execute_reply": "2021-12-06T13:10:41.361582Z",
     "shell.execute_reply.started": "2021-12-06T13:10:40.519398Z"
    }
   },
   "outputs": [
    {
     "data": {
      "image/png": "[encoded data removed]",
      "text/plain": [
       "<Figure size 720x504 with 2 Axes>"
      ]
     },
     "metadata": {
      "needs_background": "light"
     },
     "output_type": "display_data"
    }
   ],
   "source": [
    "from datetime import datetime\n",
    "df[\"hrs\"] = df[\"Time\"].apply(datetime.fromtimestamp).dt.hour\n",
    "fig, axes = plt.subplots(2, figsize=(10,7))\n",
    "for a in axes:\n",
    "    a.set_xticks(range(24))\n",
    "df.loc[df[\"Class\"] == 0][\"hrs\"].hist(bins=np.arange(24)-0.5, ax=axes[0], grid=False)\n",
    "df.loc[df[\"Class\"] == 1][\"hrs\"].hist(bins=np.arange(24)-0.5, ax=axes[1], grid=False)\n",
    "axes[0].title.set_text(\"Valid Transactions\")\n",
    "axes[1].title.set_text(\"Fraudulent Transactions\")\n",
    "plt.subplots_adjust(hspace=0.3)"
   ]
  },
  {
   "cell_type": "markdown",
   "metadata": {},
   "source": [
    "We can see that as expected,valid transactions rate increases as the day starts and reaches min during the night whereas frauds tend to peak at 2am and around 12 pm but is still more evenly spread which explains its higher standard deviation we saw before"
   ]
  },
  {
   "cell_type": "code",
   "execution_count": 20,
   "metadata": {
    "execution": {
     "iopub.execute_input": "2021-12-06T13:10:41.364405Z",
     "iopub.status.busy": "2021-12-06T13:10:41.364043Z",
     "iopub.status.idle": "2021-12-06T13:10:42.240048Z",
     "shell.execute_reply": "2021-12-06T13:10:42.239222Z",
     "shell.execute_reply.started": "2021-12-06T13:10:41.364362Z"
    },
    "id": "2E1whR2-gdqO",
    "outputId": "315e7305-c0e7-4a3b-e2bc-90abbab8f1d2",
    "papermill": {
     "duration": 0.881103,
     "end_time": "2021-12-06T08:04:30.8225",
     "exception": false,
     "start_time": "2021-12-06T08:04:29.941397",
     "status": "completed"
    },
    "tags": []
   },
   "outputs": [
    {
     "data": {
      "text/html": [
       "<div>\n",
       "<style scoped>\n",
       "    .dataframe tbody tr th:only-of-type {\n",
       "        vertical-align: middle;\n",
       "    }\n",
       "\n",
       "    .dataframe tbody tr th {\n",
       "        vertical-align: top;\n",
       "    }\n",
       "\n",
       "    .dataframe thead th {\n",
       "        text-align: right;\n",
       "    }\n",
       "</style>\n",
       "<table border=\"1\" class=\"dataframe\">\n",
       "  <thead>\n",
       "    <tr style=\"text-align: right;\">\n",
       "      <th></th>\n",
       "      <th>Time</th>\n",
       "      <th>V1</th>\n",
       "      <th>V2</th>\n",
       "      <th>V3</th>\n",
       "      <th>V4</th>\n",
       "      <th>V5</th>\n",
       "      <th>V6</th>\n",
       "      <th>V7</th>\n",
       "      <th>V8</th>\n",
       "      <th>V9</th>\n",
       "      <th>...</th>\n",
       "      <th>V22</th>\n",
       "      <th>V23</th>\n",
       "      <th>V24</th>\n",
       "      <th>V25</th>\n",
       "      <th>V26</th>\n",
       "      <th>V27</th>\n",
       "      <th>V28</th>\n",
       "      <th>Amount</th>\n",
       "      <th>Class</th>\n",
       "      <th>hrs</th>\n",
       "    </tr>\n",
       "  </thead>\n",
       "  <tbody>\n",
       "    <tr>\n",
       "      <th>Time</th>\n",
       "      <td>1.000000</td>\n",
       "      <td>1.173963e-01</td>\n",
       "      <td>-1.059333e-02</td>\n",
       "      <td>-4.196182e-01</td>\n",
       "      <td>-1.052602e-01</td>\n",
       "      <td>1.730721e-01</td>\n",
       "      <td>-6.301647e-02</td>\n",
       "      <td>8.471437e-02</td>\n",
       "      <td>-3.694943e-02</td>\n",
       "      <td>-8.660434e-03</td>\n",
       "      <td>...</td>\n",
       "      <td>1.440591e-01</td>\n",
       "      <td>5.114236e-02</td>\n",
       "      <td>-1.618187e-02</td>\n",
       "      <td>-2.330828e-01</td>\n",
       "      <td>-4.140710e-02</td>\n",
       "      <td>-5.134591e-03</td>\n",
       "      <td>-9.412688e-03</td>\n",
       "      <td>-0.010596</td>\n",
       "      <td>-0.012323</td>\n",
       "      <td>-0.082439</td>\n",
       "    </tr>\n",
       "    <tr>\n",
       "      <th>V1</th>\n",
       "      <td>0.117396</td>\n",
       "      <td>1.000000e+00</td>\n",
       "      <td>4.135835e-16</td>\n",
       "      <td>-1.227819e-15</td>\n",
       "      <td>-9.215150e-16</td>\n",
       "      <td>1.812612e-17</td>\n",
       "      <td>-6.506567e-16</td>\n",
       "      <td>-1.005191e-15</td>\n",
       "      <td>-2.433822e-16</td>\n",
       "      <td>-1.513678e-16</td>\n",
       "      <td>...</td>\n",
       "      <td>-4.290944e-16</td>\n",
       "      <td>6.168652e-16</td>\n",
       "      <td>-4.425156e-17</td>\n",
       "      <td>-9.605737e-16</td>\n",
       "      <td>-1.581290e-17</td>\n",
       "      <td>1.198124e-16</td>\n",
       "      <td>2.083082e-15</td>\n",
       "      <td>-0.227709</td>\n",
       "      <td>-0.101347</td>\n",
       "      <td>-0.001735</td>\n",
       "    </tr>\n",
       "    <tr>\n",
       "      <th>V2</th>\n",
       "      <td>-0.010593</td>\n",
       "      <td>4.135835e-16</td>\n",
       "      <td>1.000000e+00</td>\n",
       "      <td>3.243764e-16</td>\n",
       "      <td>-1.121065e-15</td>\n",
       "      <td>5.157519e-16</td>\n",
       "      <td>2.787346e-16</td>\n",
       "      <td>2.055934e-16</td>\n",
       "      <td>-5.377041e-17</td>\n",
       "      <td>1.978488e-17</td>\n",
       "      <td>...</td>\n",
       "      <td>1.526333e-16</td>\n",
       "      <td>1.634231e-16</td>\n",
       "      <td>1.247925e-17</td>\n",
       "      <td>-4.478846e-16</td>\n",
       "      <td>2.057310e-16</td>\n",
       "      <td>-4.966953e-16</td>\n",
       "      <td>-5.093836e-16</td>\n",
       "      <td>-0.531409</td>\n",
       "      <td>0.091289</td>\n",
       "      <td>-0.071150</td>\n",
       "    </tr>\n",
       "    <tr>\n",
       "      <th>V3</th>\n",
       "      <td>-0.419618</td>\n",
       "      <td>-1.227819e-15</td>\n",
       "      <td>3.243764e-16</td>\n",
       "      <td>1.000000e+00</td>\n",
       "      <td>4.711293e-16</td>\n",
       "      <td>-6.539009e-17</td>\n",
       "      <td>1.627627e-15</td>\n",
       "      <td>4.895305e-16</td>\n",
       "      <td>-1.268779e-15</td>\n",
       "      <td>5.568367e-16</td>\n",
       "      <td>...</td>\n",
       "      <td>-1.133902e-15</td>\n",
       "      <td>-4.983035e-16</td>\n",
       "      <td>2.686834e-19</td>\n",
       "      <td>-1.104734e-15</td>\n",
       "      <td>-1.238062e-16</td>\n",
       "      <td>1.045747e-15</td>\n",
       "      <td>9.775546e-16</td>\n",
       "      <td>-0.210880</td>\n",
       "      <td>-0.192961</td>\n",
       "      <td>-0.039514</td>\n",
       "    </tr>\n",
       "    <tr>\n",
       "      <th>V4</th>\n",
       "      <td>-0.105260</td>\n",
       "      <td>-9.215150e-16</td>\n",
       "      <td>-1.121065e-15</td>\n",
       "      <td>4.711293e-16</td>\n",
       "      <td>1.000000e+00</td>\n",
       "      <td>-1.719944e-15</td>\n",
       "      <td>-7.491959e-16</td>\n",
       "      <td>-4.104503e-16</td>\n",
       "      <td>5.697192e-16</td>\n",
       "      <td>6.923247e-16</td>\n",
       "      <td>...</td>\n",
       "      <td>-6.276051e-17</td>\n",
       "      <td>9.164206e-17</td>\n",
       "      <td>1.584638e-16</td>\n",
       "      <td>6.070716e-16</td>\n",
       "      <td>-4.247268e-16</td>\n",
       "      <td>3.977061e-17</td>\n",
       "      <td>-2.761403e-18</td>\n",
       "      <td>0.098732</td>\n",
       "      <td>0.133447</td>\n",
       "      <td>-0.001542</td>\n",
       "    </tr>\n",
       "    <tr>\n",
       "      <th>V5</th>\n",
       "      <td>0.173072</td>\n",
       "      <td>1.812612e-17</td>\n",
       "      <td>5.157519e-16</td>\n",
       "      <td>-6.539009e-17</td>\n",
       "      <td>-1.719944e-15</td>\n",
       "      <td>1.000000e+00</td>\n",
       "      <td>2.408382e-16</td>\n",
       "      <td>2.715541e-16</td>\n",
       "      <td>7.437229e-16</td>\n",
       "      <td>7.391702e-16</td>\n",
       "      <td>...</td>\n",
       "      <td>1.253751e-16</td>\n",
       "      <td>-8.428683e-18</td>\n",
       "      <td>-1.149255e-15</td>\n",
       "      <td>4.808532e-16</td>\n",
       "      <td>4.319541e-16</td>\n",
       "      <td>6.590482e-16</td>\n",
       "      <td>-5.613951e-18</td>\n",
       "      <td>-0.386356</td>\n",
       "      <td>-0.094974</td>\n",
       "      <td>-0.001783</td>\n",
       "    </tr>\n",
       "    <tr>\n",
       "      <th>V6</th>\n",
       "      <td>-0.063016</td>\n",
       "      <td>-6.506567e-16</td>\n",
       "      <td>2.787346e-16</td>\n",
       "      <td>1.627627e-15</td>\n",
       "      <td>-7.491959e-16</td>\n",
       "      <td>2.408382e-16</td>\n",
       "      <td>1.000000e+00</td>\n",
       "      <td>1.191668e-16</td>\n",
       "      <td>-1.104219e-16</td>\n",
       "      <td>4.131207e-16</td>\n",
       "      <td>...</td>\n",
       "      <td>-4.705235e-19</td>\n",
       "      <td>1.046712e-16</td>\n",
       "      <td>-1.071589e-15</td>\n",
       "      <td>4.562861e-16</td>\n",
       "      <td>-1.357067e-16</td>\n",
       "      <td>-4.452461e-16</td>\n",
       "      <td>2.594754e-16</td>\n",
       "      <td>0.215981</td>\n",
       "      <td>-0.043643</td>\n",
       "      <td>0.009304</td>\n",
       "    </tr>\n",
       "    <tr>\n",
       "      <th>V7</th>\n",
       "      <td>0.084714</td>\n",
       "      <td>-1.005191e-15</td>\n",
       "      <td>2.055934e-16</td>\n",
       "      <td>4.895305e-16</td>\n",
       "      <td>-4.104503e-16</td>\n",
       "      <td>2.715541e-16</td>\n",
       "      <td>1.191668e-16</td>\n",
       "      <td>1.000000e+00</td>\n",
       "      <td>3.344412e-16</td>\n",
       "      <td>1.122501e-15</td>\n",
       "      <td>...</td>\n",
       "      <td>-8.898922e-16</td>\n",
       "      <td>-4.387401e-16</td>\n",
       "      <td>7.434913e-18</td>\n",
       "      <td>-3.094082e-16</td>\n",
       "      <td>-9.657637e-16</td>\n",
       "      <td>-1.782106e-15</td>\n",
       "      <td>-2.776530e-16</td>\n",
       "      <td>0.397311</td>\n",
       "      <td>-0.187257</td>\n",
       "      <td>0.014060</td>\n",
       "    </tr>\n",
       "    <tr>\n",
       "      <th>V8</th>\n",
       "      <td>-0.036949</td>\n",
       "      <td>-2.433822e-16</td>\n",
       "      <td>-5.377041e-17</td>\n",
       "      <td>-1.268779e-15</td>\n",
       "      <td>5.697192e-16</td>\n",
       "      <td>7.437229e-16</td>\n",
       "      <td>-1.104219e-16</td>\n",
       "      <td>3.344412e-16</td>\n",
       "      <td>1.000000e+00</td>\n",
       "      <td>4.356078e-16</td>\n",
       "      <td>...</td>\n",
       "      <td>2.026927e-16</td>\n",
       "      <td>6.377260e-17</td>\n",
       "      <td>-1.047097e-16</td>\n",
       "      <td>-4.653279e-16</td>\n",
       "      <td>-1.727276e-16</td>\n",
       "      <td>1.299943e-16</td>\n",
       "      <td>-6.200930e-16</td>\n",
       "      <td>-0.103079</td>\n",
       "      <td>0.019875</td>\n",
       "      <td>-0.008536</td>\n",
       "    </tr>\n",
       "    <tr>\n",
       "      <th>V9</th>\n",
       "      <td>-0.008660</td>\n",
       "      <td>-1.513678e-16</td>\n",
       "      <td>1.978488e-17</td>\n",
       "      <td>5.568367e-16</td>\n",
       "      <td>6.923247e-16</td>\n",
       "      <td>7.391702e-16</td>\n",
       "      <td>4.131207e-16</td>\n",
       "      <td>1.122501e-15</td>\n",
       "      <td>4.356078e-16</td>\n",
       "      <td>1.000000e+00</td>\n",
       "      <td>...</td>\n",
       "      <td>-7.071869e-16</td>\n",
       "      <td>-5.214137e-16</td>\n",
       "      <td>-1.430343e-16</td>\n",
       "      <td>6.757763e-16</td>\n",
       "      <td>-7.888853e-16</td>\n",
       "      <td>-6.709655e-17</td>\n",
       "      <td>1.110541e-15</td>\n",
       "      <td>-0.044246</td>\n",
       "      <td>-0.097733</td>\n",
       "      <td>-0.055319</td>\n",
       "    </tr>\n",
       "  </tbody>\n",
       "</table>\n",
       "<p>10 rows × 32 columns</p>\n",
       "</div>"
      ],
      "text/plain": [
       "          Time            V1            V2            V3            V4  \\\n",
       "Time  1.000000  1.173963e-01 -1.059333e-02 -4.196182e-01 -1.052602e-01   \n",
       "V1    0.117396  1.000000e+00  4.135835e-16 -1.227819e-15 -9.215150e-16   \n",
       "V2   -0.010593  4.135835e-16  1.000000e+00  3.243764e-16 -1.121065e-15   \n",
       "V3   -0.419618 -1.227819e-15  3.243764e-16  1.000000e+00  4.711293e-16   \n",
       "V4   -0.105260 -9.215150e-16 -1.121065e-15  4.711293e-16  1.000000e+00   \n",
       "V5    0.173072  1.812612e-17  5.157519e-16 -6.539009e-17 -1.719944e-15   \n",
       "V6   -0.063016 -6.506567e-16  2.787346e-16  1.627627e-15 -7.491959e-16   \n",
       "V7    0.084714 -1.005191e-15  2.055934e-16  4.895305e-16 -4.104503e-16   \n",
       "V8   -0.036949 -2.433822e-16 -5.377041e-17 -1.268779e-15  5.697192e-16   \n",
       "V9   -0.008660 -1.513678e-16  1.978488e-17  5.568367e-16  6.923247e-16   \n",
       "\n",
       "                V5            V6            V7            V8            V9  \\\n",
       "Time  1.730721e-01 -6.301647e-02  8.471437e-02 -3.694943e-02 -8.660434e-03   \n",
       "V1    1.812612e-17 -6.506567e-16 -1.005191e-15 -2.433822e-16 -1.513678e-16   \n",
       "V2    5.157519e-16  2.787346e-16  2.055934e-16 -5.377041e-17  1.978488e-17   \n",
       "V3   -6.539009e-17  1.627627e-15  4.895305e-16 -1.268779e-15  5.568367e-16   \n",
       "V4   -1.719944e-15 -7.491959e-16 -4.104503e-16  5.697192e-16  6.923247e-16   \n",
       "V5    1.000000e+00  2.408382e-16  2.715541e-16  7.437229e-16  7.391702e-16   \n",
       "V6    2.408382e-16  1.000000e+00  1.191668e-16 -1.104219e-16  4.131207e-16   \n",
       "V7    2.715541e-16  1.191668e-16  1.000000e+00  3.344412e-16  1.122501e-15   \n",
       "V8    7.437229e-16 -1.104219e-16  3.344412e-16  1.000000e+00  4.356078e-16   \n",
       "V9    7.391702e-16  4.131207e-16  1.122501e-15  4.356078e-16  1.000000e+00   \n",
       "\n",
       "      ...           V22           V23           V24           V25  \\\n",
       "Time  ...  1.440591e-01  5.114236e-02 -1.618187e-02 -2.330828e-01   \n",
       "V1    ... -4.290944e-16  6.168652e-16 -4.425156e-17 -9.605737e-16   \n",
       "V2    ...  1.526333e-16  1.634231e-16  1.247925e-17 -4.478846e-16   \n",
       "V3    ... -1.133902e-15 -4.983035e-16  2.686834e-19 -1.104734e-15   \n",
       "V4    ... -6.276051e-17  9.164206e-17  1.584638e-16  6.070716e-16   \n",
       "V5    ...  1.253751e-16 -8.428683e-18 -1.149255e-15  4.808532e-16   \n",
       "V6    ... -4.705235e-19  1.046712e-16 -1.071589e-15  4.562861e-16   \n",
       "V7    ... -8.898922e-16 -4.387401e-16  7.434913e-18 -3.094082e-16   \n",
       "V8    ...  2.026927e-16  6.377260e-17 -1.047097e-16 -4.653279e-16   \n",
       "V9    ... -7.071869e-16 -5.214137e-16 -1.430343e-16  6.757763e-16   \n",
       "\n",
       "               V26           V27           V28    Amount     Class       hrs  \n",
       "Time -4.140710e-02 -5.134591e-03 -9.412688e-03 -0.010596 -0.012323 -0.082439  \n",
       "V1   -1.581290e-17  1.198124e-16  2.083082e-15 -0.227709 -0.101347 -0.001735  \n",
       "V2    2.057310e-16 -4.966953e-16 -5.093836e-16 -0.531409  0.091289 -0.071150  \n",
       "V3   -1.238062e-16  1.045747e-15  9.775546e-16 -0.210880 -0.192961 -0.039514  \n",
       "V4   -4.247268e-16  3.977061e-17 -2.761403e-18  0.098732  0.133447 -0.001542  \n",
       "V5    4.319541e-16  6.590482e-16 -5.613951e-18 -0.386356 -0.094974 -0.001783  \n",
       "V6   -1.357067e-16 -4.452461e-16  2.594754e-16  0.215981 -0.043643  0.009304  \n",
       "V7   -9.657637e-16 -1.782106e-15 -2.776530e-16  0.397311 -0.187257  0.014060  \n",
       "V8   -1.727276e-16  1.299943e-16 -6.200930e-16 -0.103079  0.019875 -0.008536  \n",
       "V9   -7.888853e-16 -6.709655e-17  1.110541e-15 -0.044246 -0.097733 -0.055319  \n",
       "\n",
       "[10 rows x 32 columns]"
      ]
     },
     "execution_count": 20,
     "metadata": {},
     "output_type": "execute_result"
    }
   ],
   "source": [
    "df.corr(method=\"pearson\").head(10)"
   ]
  },
  {
   "cell_type": "code",
   "execution_count": 21,
   "metadata": {
    "execution": {
     "iopub.execute_input": "2021-12-06T13:10:42.242017Z",
     "iopub.status.busy": "2021-12-06T13:10:42.241712Z",
     "iopub.status.idle": "2021-12-06T13:10:43.69943Z",
     "shell.execute_reply": "2021-12-06T13:10:43.698845Z",
     "shell.execute_reply.started": "2021-12-06T13:10:42.241977Z"
    },
    "id": "2p3lwX3FsGHb",
    "outputId": "5c117e93-9b0c-419e-ce98-0efb8b556cca",
    "papermill": {
     "duration": 1.649439,
     "end_time": "2021-12-06T08:04:32.524493",
     "exception": false,
     "start_time": "2021-12-06T08:04:30.875054",
     "status": "completed"
    },
    "tags": []
   },
   "outputs": [
    {
     "data": {
      "image/png": "[encoded data removed]",
      "text/plain": [
       "<Figure size 864x648 with 2 Axes>"
      ]
     },
     "metadata": {
      "needs_background": "light"
     },
     "output_type": "display_data"
    }
   ],
   "source": [
    "corrmat = df.corr()\n",
    "fig = plt.figure(figsize = (12, 9))\n",
    "sns.heatmap(corrmat, vmax = .8, square = True)\n",
    "plt.show()"
   ]
  },
  {
   "cell_type": "markdown",
   "metadata": {
    "id": "L_2h_YsEL9ay",
    "papermill": {
     "duration": 0.055466,
     "end_time": "2021-12-06T08:04:32.634201",
     "exception": false,
     "start_time": "2021-12-06T08:04:32.578735",
     "status": "completed"
    },
    "tags": []
   },
   "source": [
    "# Unsupervised Algorithms"
   ]
  },
  {
   "cell_type": "markdown",
   "metadata": {
    "id": "1_6NByz2MFHx",
    "papermill": {
     "duration": 0.056464,
     "end_time": "2021-12-06T08:04:32.744429",
     "exception": false,
     "start_time": "2021-12-06T08:04:32.687965",
     "status": "completed"
    },
    "tags": []
   },
   "source": [
    "Local Outlier Factor"
   ]
  },
  {
   "cell_type": "code",
   "execution_count": null,
   "metadata": {
    "execution": {
     "iopub.execute_input": "2021-12-06T13:10:43.70133Z",
     "iopub.status.busy": "2021-12-06T13:10:43.700664Z",
     "iopub.status.idle": "2021-12-06T13:13:41.876199Z",
     "shell.execute_reply": "2021-12-06T13:13:41.875258Z",
     "shell.execute_reply.started": "2021-12-06T13:10:43.701293Z"
    },
    "id": "qQNOIokaMI05",
    "outputId": "40d8c328-6a2c-4ca5-f0fb-ed629ea08623",
    "papermill": {
     "duration": 156.305503,
     "end_time": "2021-12-06T08:07:09.103432",
     "exception": false,
     "start_time": "2021-12-06T08:04:32.797929",
     "status": "completed"
    },
    "tags": []
   },
   "outputs": [],
   "source": [
    "from sklearn.metrics import classification_report, accuracy_score\n",
    "from sklearn.neighbors import LocalOutlierFactor\n",
    "x1= df.drop('Class',axis = 1) \n",
    "y1= df['Class'] \n",
    "outlier_frac=len(fraud)/float(len(not_fraud))\n",
    "lof=LocalOutlierFactor(n_neighbors = 20,contamination = outlier_frac)\n",
    "y_pred1 = lof.fit_predict(x1)\n",
    "y_pred1[y_pred1 == 1] = 0\n",
    "y_pred1[y_pred1 == -1] = 1\n",
    "n_errors = (y_pred1 != y1).sum()\n",
    "print('LOCAL OUTLIER FACTOR: {}'.format(n_errors))\n",
    "print('Accuracy:',accuracy_score(y1, y_pred1))\n",
    "print('Classification report')\n",
    "print(classification_report(y1, y_pred1))"
   ]
  },
  {
   "cell_type": "markdown",
   "metadata": {
    "id": "AwxOJ7fvMP3m",
    "papermill": {
     "duration": 0.055059,
     "end_time": "2021-12-06T08:07:09.213733",
     "exception": false,
     "start_time": "2021-12-06T08:07:09.158674",
     "status": "completed"
    },
    "tags": []
   },
   "source": [
    "Isolation Forest"
   ]
  },
  {
   "cell_type": "code",
   "execution_count": null,
   "metadata": {
    "execution": {
     "iopub.execute_input": "2021-12-06T13:13:41.878341Z",
     "iopub.status.busy": "2021-12-06T13:13:41.878024Z",
     "iopub.status.idle": "2021-12-06T13:14:49.08787Z",
     "shell.execute_reply": "2021-12-06T13:14:49.086877Z",
     "shell.execute_reply.started": "2021-12-06T13:13:41.8783Z"
    },
    "id": "SbPBXvJ7MS3j",
    "outputId": "0b3fa880-b2c3-47ce-c982-b3755d0b16c5",
    "papermill": {
     "duration": 65.690743,
     "end_time": "2021-12-06T08:08:14.958976",
     "exception": false,
     "start_time": "2021-12-06T08:07:09.268233",
     "status": "completed"
    },
    "tags": []
   },
   "outputs": [],
   "source": [
    "from sklearn.ensemble import IsolationForest\n",
    "ifor=IsolationForest(max_samples=len(x1),contamination=outlier_frac,random_state=1)\n",
    "ifor.fit(x1)\n",
    "ifor_scores = ifor.decision_function(x1)\n",
    "y_pred2 = ifor.predict(x1)\n",
    "y_pred2[y_pred2 == 1] = 0\n",
    "y_pred2[y_pred2 == -1] = 1\n",
    "n_errors = (y_pred2 != y1).sum()\n",
    "print('ISOLATION FOREST: {}'.format(n_errors))\n",
    "print('Accuracy:',accuracy_score(y1, y_pred2))\n",
    "print('Classification report')\n",
    "print(classification_report(y1, y_pred2))"
   ]
  },
  {
   "cell_type": "markdown",
   "metadata": {
    "id": "HA194FzUNj9-",
    "papermill": {
     "duration": 0.05566,
     "end_time": "2021-12-06T08:08:15.072321",
     "exception": false,
     "start_time": "2021-12-06T08:08:15.016661",
     "status": "completed"
    },
    "tags": []
   },
   "source": [
    "# Supervised Algorithms"
   ]
  },
  {
   "cell_type": "markdown",
   "metadata": {
    "id": "5gOIRFdFdePe",
    "papermill": {
     "duration": 0.055355,
     "end_time": "2021-12-06T08:08:15.184469",
     "exception": false,
     "start_time": "2021-12-06T08:08:15.129114",
     "status": "completed"
    },
    "tags": []
   },
   "source": [
    "Credit Card Fraud Detection using Random **Forest**"
   ]
  },
  {
   "cell_type": "code",
   "execution_count": null,
   "metadata": {
    "execution": {
     "iopub.execute_input": "2021-12-06T13:14:49.089878Z",
     "iopub.status.busy": "2021-12-06T13:14:49.089638Z",
     "iopub.status.idle": "2021-12-06T13:14:54.434664Z",
     "shell.execute_reply": "2021-12-06T13:14:54.433698Z",
     "shell.execute_reply.started": "2021-12-06T13:14:49.089826Z"
    },
    "id": "dyldcpCHejDe",
    "papermill": {
     "duration": 5.069926,
     "end_time": "2021-12-06T08:08:20.312392",
     "exception": false,
     "start_time": "2021-12-06T08:08:15.242466",
     "status": "completed"
    },
    "tags": []
   },
   "outputs": [],
   "source": [
    "import numpy as np\n",
    "import pandas as pd\n",
    "from sklearn.metrics import confusion_matrix, f1_score, classification_report, balanced_accuracy_score\n",
    "from sklearn.model_selection import train_test_split, StratifiedKFold, KFold\n",
    "import tensorflow as tf\n",
    "import matplotlib.pyplot as plt\n",
    "from sklearn.metrics import mean_absolute_error\n",
    "import joblib\n",
    "from sklearn.preprocessing import StandardScaler\n",
    "from imblearn.over_sampling import SMOTE\n"
   ]
  },
  {
   "cell_type": "code",
   "execution_count": null,
   "metadata": {
    "execution": {
     "iopub.execute_input": "2021-12-06T13:14:54.436656Z",
     "iopub.status.busy": "2021-12-06T13:14:54.436439Z",
     "iopub.status.idle": "2021-12-06T13:14:54.528568Z",
     "shell.execute_reply": "2021-12-06T13:14:54.527614Z",
     "shell.execute_reply.started": "2021-12-06T13:14:54.436631Z"
    },
    "id": "CMMDkvVeeyth",
    "outputId": "4de55606-89f0-4690-9f91-f82d76710108",
    "papermill": {
     "duration": 0.151963,
     "end_time": "2021-12-06T08:08:20.521551",
     "exception": false,
     "start_time": "2021-12-06T08:08:20.369588",
     "status": "completed"
    },
    "tags": []
   },
   "outputs": [],
   "source": [
    "df['Amount']=StandardScaler().fit_transform(np.array(df['Amount']).reshape(-1, 1))\n",
    "df=df.drop(['Time'],axis=1)\n",
    "print(df.head())\n",
    "df_non_fraud=df[df['Class']==0]\n",
    "df_fraud=df[df['Class']==1]\n",
    "print(df_non_fraud.shape)\n",
    "print(df_fraud.shape)"
   ]
  },
  {
   "cell_type": "code",
   "execution_count": null,
   "metadata": {
    "execution": {
     "iopub.execute_input": "2021-12-06T13:14:54.533689Z",
     "iopub.status.busy": "2021-12-06T13:14:54.533351Z",
     "iopub.status.idle": "2021-12-06T13:14:54.57467Z",
     "shell.execute_reply": "2021-12-06T13:14:54.573658Z",
     "shell.execute_reply.started": "2021-12-06T13:14:54.533657Z"
    },
    "id": "ZGCpsIX_eLP2",
    "papermill": {
     "duration": 0.098028,
     "end_time": "2021-12-06T08:08:20.677254",
     "exception": false,
     "start_time": "2021-12-06T08:08:20.579226",
     "status": "completed"
    },
    "tags": []
   },
   "outputs": [],
   "source": [
    "X=df[df.columns[:-1]]\n",
    "y=df[df.columns[-1]]"
   ]
  },
  {
   "cell_type": "code",
   "execution_count": null,
   "metadata": {
    "execution": {
     "iopub.execute_input": "2021-12-06T13:14:54.576227Z",
     "iopub.status.busy": "2021-12-06T13:14:54.575996Z",
     "iopub.status.idle": "2021-12-06T13:16:02.242138Z",
     "shell.execute_reply": "2021-12-06T13:16:02.24127Z",
     "shell.execute_reply.started": "2021-12-06T13:14:54.576189Z"
    },
    "id": "IwvpkeYzdRVn",
    "outputId": "d4d67ae7-8c7e-4f0a-d522-094acef3773e",
    "papermill": {
     "duration": 0.535335,
     "end_time": "2021-12-06T08:08:21.271031",
     "exception": false,
     "start_time": "2021-12-06T08:08:20.735696",
     "status": "completed"
    },
    "tags": []
   },
   "outputs": [],
   "source": [
    "x_train,x_test,y_train,y_test=train_test_split(X,y,test_size=0.3,random_state=42)\n",
    "smote=SMOTE(random_state=42)\n",
    "print(x_train.shape)\n",
    "print(y_train.shape)\n",
    "print(x_test.shape)\n",
    "print(y_test.shape)\n",
    "x_train_ov,y_train_ov=smote.fit_resample(x_train,y_train)\n",
    "print(x_train_ov.shape)\n",
    "print(y_train_ov.shape)"
   ]
  },
  {
   "cell_type": "code",
   "execution_count": null,
   "metadata": {
    "execution": {
     "iopub.execute_input": "2021-12-06T13:16:02.243775Z",
     "iopub.status.busy": "2021-12-06T13:16:02.243542Z",
     "iopub.status.idle": "2021-12-06T13:16:02.260647Z",
     "shell.execute_reply": "2021-12-06T13:16:02.259833Z",
     "shell.execute_reply.started": "2021-12-06T13:16:02.243746Z"
    },
    "papermill": {
     "duration": 0.076409,
     "end_time": "2021-12-06T08:08:21.404726",
     "exception": false,
     "start_time": "2021-12-06T08:08:21.328317",
     "status": "completed"
    },
    "tags": []
   },
   "outputs": [],
   "source": [
    "print(x_train_ov.head())"
   ]
  },
  {
   "cell_type": "code",
   "execution_count": null,
   "metadata": {
    "execution": {
     "iopub.execute_input": "2021-12-06T13:16:02.262173Z",
     "iopub.status.busy": "2021-12-06T13:16:02.261919Z"
    },
    "id": "cyc3Dx5DfAOV",
    "papermill": {
     "duration": 360.335918,
     "end_time": "2021-12-06T08:14:21.799975",
     "exception": false,
     "start_time": "2021-12-06T08:08:21.464057",
     "status": "completed"
    },
    "tags": []
   },
   "outputs": [],
   "source": [
    "from sklearn.ensemble import RandomForestClassifier\n",
    "# random forest model creation\n",
    "rfc = RandomForestClassifier()\n",
    "rfc.fit(x_train_ov,y_train_ov)\n",
    "# predictions\n",
    "y_pred = rfc.predict(x_test)"
   ]
  },
  {
   "cell_type": "code",
   "execution_count": null,
   "metadata": {
    "id": "6WDwGA-UkYue",
    "papermill": {
     "duration": 0.652211,
     "end_time": "2021-12-06T08:14:22.511655",
     "exception": false,
     "start_time": "2021-12-06T08:14:21.859444",
     "status": "completed"
    },
    "tags": []
   },
   "outputs": [],
   "source": [
    "#Evaluating the classifier\n",
    "#printing every score of the classifier\n",
    "#scoring in any thing\n",
    "from sklearn.metrics import classification_report, accuracy_score,precision_score,recall_score,f1_score,matthews_corrcoef\n",
    "from sklearn.metrics import confusion_matrix\n",
    "# n_outliers = len(Fraud)\n",
    "# n_errors = (y_pred != Y_test).sum()\n",
    "print(\"The model used is Random Forest classifier\")\n",
    "acc= accuracy_score(y_pred,y_test)\n",
    "print(\"The accuracy is  {}\".format(acc))\n",
    "prec= precision_score(y_test,y_pred)\n",
    "print(\"The precision is {}\".format(prec))\n",
    "rec= recall_score(y_test,y_pred)\n",
    "print(\"The recall is {}\".format(rec))\n",
    "f1= f1_score(y_test,y_pred)\n",
    "print(\"The F1-Score is {}\".format(f1))\n",
    "MCC=matthews_corrcoef(y_test,y_pred)\n",
    "print(\"The Matthews correlation coefficient is {}\".format(MCC))\n",
    "\n",
    "\n",
    "#printing the confusion matrix\n",
    "LABELS = ['Normal', 'Fraud']\n",
    "conf_matrix = confusion_matrix(y_test, y_pred)\n",
    "plt.figure(figsize=(12, 12))\n",
    "sns.heatmap(conf_matrix, xticklabels=LABELS, yticklabels=LABELS, annot=True, fmt=\"d\");\n",
    "plt.title(\"Confusion matrix\")\n",
    "plt.ylabel('True class')\n",
    "plt.xlabel('Predicted class')\n",
    "plt.show()\n",
    "\n",
    "# Run classification metrics\n",
    "# plt.figure(figsize=(9, 7))\n",
    "# print('{}: {}'.format(\"Random Forest\", n_errors))\n",
    "# print(accuracy_score(Y_test, y_pred))\n",
    "# print(classification_report(Y_test, y_pred))"
   ]
  },
  {
   "cell_type": "markdown",
   "metadata": {
    "id": "pWB8CIL-2CEJ",
    "papermill": {
     "duration": 0.059074,
     "end_time": "2021-12-06T08:14:22.63316",
     "exception": false,
     "start_time": "2021-12-06T08:14:22.574086",
     "status": "completed"
    },
    "tags": []
   },
   "source": [
    "Credit Card Fraud Detection using **SVM**"
   ]
  },
  {
   "cell_type": "code",
   "execution_count": null,
   "metadata": {
    "id": "RlEcEHfQ2H9H",
    "papermill": {
     "duration": 0.107388,
     "end_time": "2021-12-06T08:14:22.799404",
     "exception": false,
     "start_time": "2021-12-06T08:14:22.692016",
     "status": "completed"
    },
    "tags": []
   },
   "outputs": [],
   "source": [
    "import numpy as np # linear algebra\n",
    "import pandas as pd # data processing, CSV file I/O (e.g. pd.read_csv)\n",
    "import matplotlib.pyplot as plt\n",
    "from sklearn import svm\n",
    "from sklearn.svm import SVC\n",
    "from sklearn.metrics import classification_report\n",
    "from sklearn.metrics import confusion_matrix\n",
    "from sklearn.metrics import f1_score\n",
    "from sklearn.metrics import accuracy_score\n",
    "from sklearn.metrics import recall_score\n",
    "from sklearn.metrics import precision_score, precision_recall_curve\n",
    "from sklearn.metrics import roc_auc_score, roc_curve, auc, average_precision_score\n",
    "from sklearn.preprocessing import StandardScaler\n",
    "from sklearn.model_selection import train_test_split\n",
    "from mlxtend.plotting import plot_confusion_matrix\n",
    "import itertools"
   ]
  },
  {
   "cell_type": "code",
   "execution_count": null,
   "metadata": {
    "papermill": {
     "duration": 2.623588,
     "end_time": "2021-12-06T08:14:25.483598",
     "exception": false,
     "start_time": "2021-12-06T08:14:22.86001",
     "status": "completed"
    },
    "tags": []
   },
   "outputs": [],
   "source": [
    "data = pd.read_csv('../input/creditcardfraud/creditcard.csv') # Reading the file .csv\n",
    "df = pd.DataFrame(data) # Converting data to Panda DataFrame"
   ]
  },
  {
   "cell_type": "code",
   "execution_count": null,
   "metadata": {
    "papermill": {
     "duration": 0.872761,
     "end_time": "2021-12-06T08:14:26.419359",
     "exception": false,
     "start_time": "2021-12-06T08:14:25.546598",
     "status": "completed"
    },
    "tags": []
   },
   "outputs": [],
   "source": [
    "df_corr = df.corr() # Calculation of the correlation coefficients in pairs, with the default method:\n",
    "                    # Pearson, Standard Correlation Coefficient"
   ]
  },
  {
   "cell_type": "code",
   "execution_count": null,
   "metadata": {
    "papermill": {
     "duration": 0.074915,
     "end_time": "2021-12-06T08:14:26.55786",
     "exception": false,
     "start_time": "2021-12-06T08:14:26.482945",
     "status": "completed"
    },
    "tags": []
   },
   "outputs": [],
   "source": [
    "rank = df_corr['Class'] # Retrieving the correlation coefficients per feature in relation to the feature class\n",
    "df_rank = pd.DataFrame(rank) \n",
    "df_rank = np.abs(df_rank).sort_values(by='Class',ascending=False) # Ranking the absolute values of the coefficients\n",
    "                                                                  # in descending order\n",
    "df_rank.dropna(inplace=True) # Removing Missing Data (not a number)"
   ]
  },
  {
   "cell_type": "code",
   "execution_count": null,
   "metadata": {
    "papermill": {
     "duration": 0.088823,
     "end_time": "2021-12-06T08:14:26.707703",
     "exception": false,
     "start_time": "2021-12-06T08:14:26.61888",
     "status": "completed"
    },
    "tags": []
   },
   "outputs": [],
   "source": [
    "# We seperate ours data in two groups : a train dataset and a test dataset\n",
    "\n",
    "# First we build our train dataset\n",
    "df_train_all = df[0:150000] # We cut in two the original dataset\n",
    "df_train_1 = df_train_all[df_train_all['Class'] == 1] # We seperate the data which are the frauds and the no frauds\n",
    "df_train_0 = df_train_all[df_train_all['Class'] == 0]\n",
    "print('In this dataset, we have ' + str(len(df_train_1)) +\" frauds so we need to take a similar number of non-fraud\")\n",
    "\n",
    "df_sample=df_train_0.sample(300)\n",
    "df_train = df_train_1.append(df_sample) # We gather the frauds with the no frauds. \n",
    "df_train = df_train.sample(frac=1) # Then we mix our dataset"
   ]
  },
  {
   "cell_type": "code",
   "execution_count": null,
   "metadata": {
    "papermill": {
     "duration": 0.070534,
     "end_time": "2021-12-06T08:14:26.839017",
     "exception": false,
     "start_time": "2021-12-06T08:14:26.768483",
     "status": "completed"
    },
    "tags": []
   },
   "outputs": [],
   "source": [
    "X_train = df_train.drop(['Time', 'Class'],axis=1) # We drop the features Time (useless), and the Class (label)\n",
    "y_train = df_train['Class'] # We create our label\n",
    "X_train = np.asarray(X_train)\n",
    "y_train = np.asarray(y_train)"
   ]
  },
  {
   "cell_type": "code",
   "execution_count": null,
   "metadata": {
    "papermill": {
     "duration": 0.076792,
     "end_time": "2021-12-06T08:14:26.97905",
     "exception": false,
     "start_time": "2021-12-06T08:14:26.902258",
     "status": "completed"
    },
    "tags": []
   },
   "outputs": [],
   "source": [
    "############################## with all the test dataset to see if the model learn correctly ##################\n",
    "df_test_all = df[150000:]\n",
    "\n",
    "X_test_all = df_test_all.drop(['Time', 'Class'],axis=1)\n",
    "y_test_all = df_test_all['Class']\n",
    "X_test_all = np.asarray(X_test_all)\n",
    "y_test_all = np.asarray(y_test_all)"
   ]
  },
  {
   "cell_type": "code",
   "execution_count": null,
   "metadata": {
    "papermill": {
     "duration": 0.066466,
     "end_time": "2021-12-06T08:14:27.10573",
     "exception": false,
     "start_time": "2021-12-06T08:14:27.039264",
     "status": "completed"
    },
    "tags": []
   },
   "outputs": [],
   "source": [
    "X_train_rank = df_train[df_rank.index[1:11]] # We take the first ten ranked features\n",
    "X_train_rank = np.asarray(X_train_rank)"
   ]
  },
  {
   "cell_type": "code",
   "execution_count": null,
   "metadata": {
    "papermill": {
     "duration": 0.069733,
     "end_time": "2021-12-06T08:14:27.234669",
     "exception": false,
     "start_time": "2021-12-06T08:14:27.164936",
     "status": "completed"
    },
    "tags": []
   },
   "outputs": [],
   "source": [
    "############################## with all the test dataset to see if the model learn correctly ##################\n",
    "X_test_all_rank = df_test_all[df_rank.index[1:11]]\n",
    "X_test_all_rank = np.asarray(X_test_all_rank)\n",
    "y_test_all = np.asarray(y_test_all)"
   ]
  },
  {
   "cell_type": "code",
   "execution_count": null,
   "metadata": {
    "papermill": {
     "duration": 0.066439,
     "end_time": "2021-12-06T08:14:27.360732",
     "exception": false,
     "start_time": "2021-12-06T08:14:27.294293",
     "status": "completed"
    },
    "tags": []
   },
   "outputs": [],
   "source": [
    "class_names=np.array(['0','1']) # Binary label, Class = 1 (fraud) and Class = 0 (no fraud)"
   ]
  },
  {
   "cell_type": "code",
   "execution_count": null,
   "metadata": {
    "papermill": {
     "duration": 0.072279,
     "end_time": "2021-12-06T08:14:27.492838",
     "exception": false,
     "start_time": "2021-12-06T08:14:27.420559",
     "status": "completed"
    },
    "tags": []
   },
   "outputs": [],
   "source": [
    "# Function to plot the confusion Matrix\n",
    "def plot_confusion_matrix(cm, classes,\n",
    "                          title='Confusion matrix',\n",
    "                          cmap=plt.cm.Blues):\n",
    "    \n",
    "    plt.imshow(cm, interpolation='nearest', cmap=cmap)\n",
    "    plt.title(title)\n",
    "    plt.colorbar()\n",
    "    tick_marks = np.arange(len(classes))\n",
    "    plt.xticks(tick_marks, classes, rotation=45)\n",
    "    plt.yticks(tick_marks, classes)\n",
    "\n",
    "    fmt = 'd' \n",
    "    thresh = cm.max() / 2.\n",
    "    for i, j in itertools.product(range(cm.shape[0]), range(cm.shape[1])):\n",
    "        plt.text(j, i, format(cm[i, j], fmt),\n",
    "                 horizontalalignment=\"center\",\n",
    "                 color=\"white\" if cm[i, j] > thresh else \"black\")\n",
    "\n",
    "    plt.tight_layout()\n",
    "    plt.ylabel('True label')\n",
    "    plt.xlabel('Predicted label')"
   ]
  },
  {
   "cell_type": "code",
   "execution_count": null,
   "metadata": {
    "papermill": {
     "duration": 0.066228,
     "end_time": "2021-12-06T08:14:27.618178",
     "exception": false,
     "start_time": "2021-12-06T08:14:27.55195",
     "status": "completed"
    },
    "tags": []
   },
   "outputs": [],
   "source": [
    "classifier = svm.SVC(kernel='linear') # We set a SVM classifier, the default SVM Classifier (Kernel = Radial Basis Function)"
   ]
  },
  {
   "cell_type": "code",
   "execution_count": null,
   "metadata": {
    "papermill": {
     "duration": 2.322558,
     "end_time": "2021-12-06T08:14:30.000533",
     "exception": false,
     "start_time": "2021-12-06T08:14:27.677975",
     "status": "completed"
    },
    "tags": []
   },
   "outputs": [],
   "source": [
    "classifier.fit(X_train, y_train) # Then we train our model, with our balanced data train."
   ]
  },
  {
   "cell_type": "code",
   "execution_count": null,
   "metadata": {
    "papermill": {
     "duration": 0.411332,
     "end_time": "2021-12-06T08:14:30.471706",
     "exception": false,
     "start_time": "2021-12-06T08:14:30.060374",
     "status": "completed"
    },
    "tags": []
   },
   "outputs": [],
   "source": [
    "prediction_SVM_all = classifier.predict(X_test_all) #And finally, we predict our data test."
   ]
  },
  {
   "cell_type": "code",
   "execution_count": null,
   "metadata": {
    "papermill": {
     "duration": 0.515421,
     "end_time": "2021-12-06T08:14:31.046552",
     "exception": false,
     "start_time": "2021-12-06T08:14:30.531131",
     "status": "completed"
    },
    "tags": []
   },
   "outputs": [],
   "source": [
    "cm = confusion_matrix(y_test_all, prediction_SVM_all)\n",
    "plot_confusion_matrix(cm,class_names)"
   ]
  },
  {
   "cell_type": "code",
   "execution_count": null,
   "metadata": {
    "papermill": {
     "duration": 0.071361,
     "end_time": "2021-12-06T08:14:31.178801",
     "exception": false,
     "start_time": "2021-12-06T08:14:31.10744",
     "status": "completed"
    },
    "tags": []
   },
   "outputs": [],
   "source": [
    "print('We have detected ' + str(cm[1][1]) + ' frauds / ' + str(cm[1][1]+cm[1][0]) + ' total frauds.')\n",
    "print('\\nSo, the probability to detect a fraud is ' + str(cm[1][1]/(cm[1][1]+cm[1][0])))\n",
    "print(\"the accuracy is : \"+str((cm[0][0]+cm[1][1]) / (sum(cm[0]) + sum(cm[1]))))"
   ]
  },
  {
   "cell_type": "code",
   "execution_count": null,
   "metadata": {
    "papermill": {
     "duration": 0.194303,
     "end_time": "2021-12-06T08:14:31.435567",
     "exception": false,
     "start_time": "2021-12-06T08:14:31.241264",
     "status": "completed"
    },
    "tags": []
   },
   "outputs": [],
   "source": [
    "#Evaluating the classifier\n",
    "#printing every score of the classifier\n",
    "#scoring in any thing\n",
    "from sklearn.metrics import classification_report, accuracy_score,precision_score,recall_score,f1_score,matthews_corrcoef\n",
    "from sklearn.metrics import confusion_matrix\n",
    "print(\"The model used is SVM\")\n",
    "acc= accuracy_score(prediction_SVM_all,y_test_all)\n",
    "print(\"The accuracy is  {}\".format(acc))\n",
    "prec= precision_score(y_test_all,prediction_SVM_all)\n",
    "print(\"The precision is {}\".format(prec))\n",
    "rec= recall_score(y_test_all,prediction_SVM_all)\n",
    "print(\"The recall is {}\".format(rec))\n",
    "f1= f1_score(y_test_all,prediction_SVM_all)\n",
    "print(\"The F1-Score is {}\".format(f1))\n"
   ]
  },
  {
   "cell_type": "code",
   "execution_count": null,
   "metadata": {
    "papermill": {
     "duration": 0.061399,
     "end_time": "2021-12-06T08:14:31.559549",
     "exception": false,
     "start_time": "2021-12-06T08:14:31.49815",
     "status": "completed"
    },
    "tags": []
   },
   "outputs": [],
   "source": []
  }
 ],
 "metadata": {
  "kernelspec": {
   "display_name": "Python 3 (ipykernel)",
   "language": "python",
   "name": "python3"
  },
  "language_info": {
   "codemirror_mode": {
    "name": "ipython",
    "version": 3
   },
   "file_extension": ".py",
   "mimetype": "text/x-python",
   "name": "python",
   "nbconvert_exporter": "python",
   "pygments_lexer": "ipython3",
   "version": "3.7.3"
  }
 },
 "nbformat": 4,
 "nbformat_minor": 4
}
